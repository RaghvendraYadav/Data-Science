{
 "cells": [
  {
   "cell_type": "code",
   "execution_count": 2,
   "id": "84da766d",
   "metadata": {},
   "outputs": [],
   "source": [
    "import numpy as np"
   ]
  },
  {
   "cell_type": "code",
   "execution_count": 3,
   "id": "56793ecf",
   "metadata": {},
   "outputs": [],
   "source": [
    "l=[1,2,3,4,5]"
   ]
  },
  {
   "cell_type": "code",
   "execution_count": 4,
   "id": "bfa40bb6",
   "metadata": {},
   "outputs": [
    {
     "data": {
      "text/plain": [
       "array([1, 2, 3, 4, 5])"
      ]
     },
     "execution_count": 4,
     "metadata": {},
     "output_type": "execute_result"
    }
   ],
   "source": [
    "np.array(l)# all are integer "
   ]
  },
  {
   "cell_type": "code",
   "execution_count": 5,
   "id": "7ff967e1",
   "metadata": {},
   "outputs": [],
   "source": [
    "l1=[1,'ragh',3,4,5]"
   ]
  },
  {
   "cell_type": "code",
   "execution_count": 6,
   "id": "9dc6220f",
   "metadata": {},
   "outputs": [
    {
     "data": {
      "text/plain": [
       "array(['1', 'ragh', '3', '4', '5'], dtype='<U11')"
      ]
     },
     "execution_count": 6,
     "metadata": {},
     "output_type": "execute_result"
    }
   ],
   "source": [
    "np.array(l1)# all data is String "
   ]
  },
  {
   "cell_type": "code",
   "execution_count": 7,
   "id": "80c7f042",
   "metadata": {},
   "outputs": [
    {
     "data": {
      "text/plain": [
       "array([[1, 2, 3],\n",
       "       [4, 5, 6]])"
      ]
     },
     "execution_count": 7,
     "metadata": {},
     "output_type": "execute_result"
    }
   ],
   "source": [
    "np.array([[1,2,3],[4,5,6]])"
   ]
  },
  {
   "cell_type": "code",
   "execution_count": 10,
   "id": "065c5344",
   "metadata": {},
   "outputs": [
    {
     "data": {
      "text/plain": [
       "4"
      ]
     },
     "execution_count": 10,
     "metadata": {},
     "output_type": "execute_result"
    }
   ],
   "source": [
    "np.random.randint(2,5)"
   ]
  },
  {
   "cell_type": "code",
   "execution_count": 34,
   "id": "312f0dbd",
   "metadata": {},
   "outputs": [],
   "source": [
    "a2=np.random.randint(2,50,(3,4))# num btw 2 and 50 and matrix 3*4"
   ]
  },
  {
   "cell_type": "code",
   "execution_count": 14,
   "id": "74c23ce3",
   "metadata": {},
   "outputs": [
    {
     "data": {
      "text/plain": [
       "array([[[42, 20, 17, 46],\n",
       "        [42,  7, 34, 12],\n",
       "        [16,  5, 21, 21]],\n",
       "\n",
       "       [[45, 16, 35, 24],\n",
       "        [43, 39, 49, 47],\n",
       "        [28, 25, 12, 28]]])"
      ]
     },
     "execution_count": 14,
     "metadata": {},
     "output_type": "execute_result"
    }
   ],
   "source": [
    "np.random.randint(2,50,(2,3,4))# three dimentional 2 matrix of 3*4 "
   ]
  },
  {
   "cell_type": "code",
   "execution_count": 19,
   "id": "208adc69",
   "metadata": {},
   "outputs": [
    {
     "data": {
      "text/plain": [
       "array([[0.85130638, 0.24699019, 0.88843451],\n",
       "       [0.13852274, 0.38744173, 0.8155767 ]])"
      ]
     },
     "execution_count": 19,
     "metadata": {},
     "output_type": "execute_result"
    }
   ],
   "source": [
    "np.random.rand(2,3)# no between  0 to 1 in matrix 2* 3"
   ]
  },
  {
   "cell_type": "code",
   "execution_count": 20,
   "id": "5b8d1dda",
   "metadata": {},
   "outputs": [
    {
     "data": {
      "text/plain": [
       "array([[ 0.11866527,  0.94772057, -0.86125447, -0.28321231, -0.42035212,\n",
       "        -0.42672074],\n",
       "       [-0.5711177 ,  0.01423592,  0.37292116, -0.23247988,  0.8108867 ,\n",
       "         0.71330568],\n",
       "       [ 0.75326244,  2.29639123, -0.6405905 , -0.96343406,  0.04939472,\n",
       "         1.57756629],\n",
       "       [ 0.67327628,  0.79317217,  0.48676354,  1.1289681 , -0.0309709 ,\n",
       "         0.36707192]])"
      ]
     },
     "execution_count": 20,
     "metadata": {},
     "output_type": "execute_result"
    }
   ],
   "source": [
    "np.random.randn(4,6)# number between -1 to 1 in matrix 4*6 avg =0 and sd =1  then it Standard Normal Distribution "
   ]
  },
  {
   "cell_type": "code",
   "execution_count": 22,
   "id": "bc39949a",
   "metadata": {},
   "outputs": [],
   "source": [
    "a4=np.random.randn(4,4)"
   ]
  },
  {
   "cell_type": "code",
   "execution_count": 24,
   "id": "fa7ce34d",
   "metadata": {},
   "outputs": [
    {
     "data": {
      "text/plain": [
       "array([[ 0.81893534, -0.77902797,  0.35769793, -0.5336047 , -0.55182534,\n",
       "         0.94487143,  0.62666771, -1.38978089],\n",
       "       [ 0.12595967, -0.06594398, -0.11071763, -0.21862138,  2.2177932 ,\n",
       "         1.45883578, -0.52211595, -0.41317584]])"
      ]
     },
     "execution_count": 24,
     "metadata": {},
     "output_type": "execute_result"
    }
   ],
   "source": [
    "a4.reshape(2,8)# to reshape the matrix "
   ]
  },
  {
   "cell_type": "code",
   "execution_count": 25,
   "id": "a336695d",
   "metadata": {},
   "outputs": [
    {
     "data": {
      "text/plain": [
       "16"
      ]
     },
     "execution_count": 25,
     "metadata": {},
     "output_type": "execute_result"
    }
   ],
   "source": [
    "a4.size"
   ]
  },
  {
   "cell_type": "code",
   "execution_count": 26,
   "id": "a21bc63c",
   "metadata": {},
   "outputs": [
    {
     "data": {
      "text/plain": [
       "array([[ 0.81893534, -0.77902797],\n",
       "       [ 0.35769793, -0.5336047 ],\n",
       "       [-0.55182534,  0.94487143],\n",
       "       [ 0.62666771, -1.38978089],\n",
       "       [ 0.12595967, -0.06594398],\n",
       "       [-0.11071763, -0.21862138],\n",
       "       [ 2.2177932 ,  1.45883578],\n",
       "       [-0.52211595, -0.41317584]])"
      ]
     },
     "execution_count": 26,
     "metadata": {},
     "output_type": "execute_result"
    }
   ],
   "source": [
    "a4.reshape(8,2)# to reshape the matrix "
   ]
  },
  {
   "cell_type": "code",
   "execution_count": 29,
   "id": "629458ff",
   "metadata": {},
   "outputs": [
    {
     "data": {
      "text/plain": [
       "array([[ 0.81893534, -0.77902797],\n",
       "       [ 0.35769793, -0.5336047 ],\n",
       "       [-0.55182534,  0.94487143],\n",
       "       [ 0.62666771, -1.38978089],\n",
       "       [ 0.12595967, -0.06594398],\n",
       "       [-0.11071763, -0.21862138],\n",
       "       [ 2.2177932 ,  1.45883578],\n",
       "       [-0.52211595, -0.41317584]])"
      ]
     },
     "execution_count": 29,
     "metadata": {},
     "output_type": "execute_result"
    }
   ],
   "source": [
    "a4.reshape(8,-1)# autmatically take another demension not only -1 any negative number"
   ]
  },
  {
   "cell_type": "code",
   "execution_count": 31,
   "id": "f3589aac",
   "metadata": {},
   "outputs": [
    {
     "data": {
      "text/plain": [
       "array([[[ 0.81893534, -0.77902797,  0.35769793, -0.5336047 ],\n",
       "        [-0.55182534,  0.94487143,  0.62666771, -1.38978089]],\n",
       "\n",
       "       [[ 0.12595967, -0.06594398, -0.11071763, -0.21862138],\n",
       "        [ 2.2177932 ,  1.45883578, -0.52211595, -0.41317584]]])"
      ]
     },
     "execution_count": 31,
     "metadata": {},
     "output_type": "execute_result"
    }
   ],
   "source": [
    "a4.reshape(2,2,4)# Change it into three dimension"
   ]
  },
  {
   "cell_type": "code",
   "execution_count": 32,
   "id": "c991c8f0",
   "metadata": {},
   "outputs": [
    {
     "ename": "NameError",
     "evalue": "name 'a3' is not defined",
     "output_type": "error",
     "traceback": [
      "\u001b[1;31m---------------------------------------------------------------------------\u001b[0m",
      "\u001b[1;31mNameError\u001b[0m                                 Traceback (most recent call last)",
      "\u001b[1;32m<ipython-input-32-8b474d1c49a1>\u001b[0m in \u001b[0;36m<module>\u001b[1;34m\u001b[0m\n\u001b[1;32m----> 1\u001b[1;33m \u001b[0ma3\u001b[0m\u001b[1;33m\u001b[0m\u001b[1;33m\u001b[0m\u001b[0m\n\u001b[0m",
      "\u001b[1;31mNameError\u001b[0m: name 'a3' is not defined"
     ]
    }
   ],
   "source": [
    "a3"
   ]
  },
  {
   "cell_type": "code",
   "execution_count": 33,
   "id": "a9ef0e85",
   "metadata": {},
   "outputs": [
    {
     "ename": "NameError",
     "evalue": "name 'a2' is not defined",
     "output_type": "error",
     "traceback": [
      "\u001b[1;31m---------------------------------------------------------------------------\u001b[0m",
      "\u001b[1;31mNameError\u001b[0m                                 Traceback (most recent call last)",
      "\u001b[1;32m<ipython-input-33-5447c6b8023b>\u001b[0m in \u001b[0;36m<module>\u001b[1;34m\u001b[0m\n\u001b[1;32m----> 1\u001b[1;33m \u001b[0ma2\u001b[0m\u001b[1;33m\u001b[0m\u001b[1;33m\u001b[0m\u001b[0m\n\u001b[0m",
      "\u001b[1;31mNameError\u001b[0m: name 'a2' is not defined"
     ]
    }
   ],
   "source": [
    "a2"
   ]
  },
  {
   "cell_type": "code",
   "execution_count": 35,
   "id": "bc17ef57",
   "metadata": {},
   "outputs": [
    {
     "data": {
      "text/plain": [
       "array([[44, 35, 11, 48],\n",
       "       [11, 23, 48, 43],\n",
       "       [ 2, 21, 40, 34]])"
      ]
     },
     "execution_count": 35,
     "metadata": {},
     "output_type": "execute_result"
    }
   ],
   "source": [
    "a2"
   ]
  },
  {
   "cell_type": "code",
   "execution_count": 38,
   "id": "78abe22a",
   "metadata": {},
   "outputs": [
    {
     "data": {
      "text/plain": [
       "array([[48, 43],\n",
       "       [40, 34]])"
      ]
     },
     "execution_count": 38,
     "metadata": {},
     "output_type": "execute_result"
    }
   ],
   "source": [
    "a2[1:3,2:]"
   ]
  },
  {
   "cell_type": "code",
   "execution_count": 40,
   "id": "368391b5",
   "metadata": {},
   "outputs": [],
   "source": [
    "a5=np.random.randint(2,9,(6,5))"
   ]
  },
  {
   "cell_type": "code",
   "execution_count": 41,
   "id": "fdbe4a96",
   "metadata": {},
   "outputs": [
    {
     "data": {
      "text/plain": [
       "array([[7, 3, 8, 7, 5],\n",
       "       [3, 7, 6, 7, 3],\n",
       "       [4, 4, 5, 2, 8],\n",
       "       [6, 4, 8, 4, 4],\n",
       "       [4, 7, 3, 8, 4],\n",
       "       [5, 3, 8, 6, 5]])"
      ]
     },
     "execution_count": 41,
     "metadata": {},
     "output_type": "execute_result"
    }
   ],
   "source": [
    "a5"
   ]
  },
  {
   "cell_type": "code",
   "execution_count": 42,
   "id": "03e41db7",
   "metadata": {},
   "outputs": [
    {
     "data": {
      "text/plain": [
       "array([7, 8, 7, 5, 7, 6, 7, 5, 8, 6, 8, 7, 8, 5, 8, 6, 5])"
      ]
     },
     "execution_count": 42,
     "metadata": {},
     "output_type": "execute_result"
    }
   ],
   "source": [
    "a5[a5>4]# Condition under the array"
   ]
  },
  {
   "cell_type": "code",
   "execution_count": 43,
   "id": "698fa1b0",
   "metadata": {},
   "outputs": [
    {
     "data": {
      "text/plain": [
       "array([[7, 3, 8, 7, 5],\n",
       "       [3, 7, 6, 7, 3],\n",
       "       [4, 4, 5, 2, 8],\n",
       "       [6, 4, 8, 4, 4],\n",
       "       [4, 7, 3, 8, 4],\n",
       "       [5, 3, 8, 6, 5]])"
      ]
     },
     "execution_count": 43,
     "metadata": {},
     "output_type": "execute_result"
    }
   ],
   "source": [
    "a5"
   ]
  },
  {
   "cell_type": "code",
   "execution_count": 44,
   "id": "9fe55c5b",
   "metadata": {},
   "outputs": [],
   "source": [
    "a5[0][2]=12"
   ]
  },
  {
   "cell_type": "code",
   "execution_count": 45,
   "id": "0d0cbcf0",
   "metadata": {},
   "outputs": [
    {
     "data": {
      "text/plain": [
       "array([[ 7,  3, 12,  7,  5],\n",
       "       [ 3,  7,  6,  7,  3],\n",
       "       [ 4,  4,  5,  2,  8],\n",
       "       [ 6,  4,  8,  4,  4],\n",
       "       [ 4,  7,  3,  8,  4],\n",
       "       [ 5,  3,  8,  6,  5]])"
      ]
     },
     "execution_count": 45,
     "metadata": {},
     "output_type": "execute_result"
    }
   ],
   "source": [
    "a5"
   ]
  },
  {
   "cell_type": "code",
   "execution_count": 46,
   "id": "596727e2",
   "metadata": {},
   "outputs": [
    {
     "data": {
      "text/plain": [
       "3"
      ]
     },
     "execution_count": 46,
     "metadata": {},
     "output_type": "execute_result"
    }
   ],
   "source": [
    "a5[0,1]"
   ]
  },
  {
   "cell_type": "code",
   "execution_count": 47,
   "id": "de82ce40",
   "metadata": {},
   "outputs": [],
   "source": [
    "a5[0,1]=799"
   ]
  },
  {
   "cell_type": "code",
   "execution_count": 48,
   "id": "000c44b5",
   "metadata": {},
   "outputs": [
    {
     "data": {
      "text/plain": [
       "array([[  7, 799,  12,   7,   5],\n",
       "       [  3,   7,   6,   7,   3],\n",
       "       [  4,   4,   5,   2,   8],\n",
       "       [  6,   4,   8,   4,   4],\n",
       "       [  4,   7,   3,   8,   4],\n",
       "       [  5,   3,   8,   6,   5]])"
      ]
     },
     "execution_count": 48,
     "metadata": {},
     "output_type": "execute_result"
    }
   ],
   "source": [
    "a5"
   ]
  },
  {
   "cell_type": "code",
   "execution_count": 54,
   "id": "33bf6bf4",
   "metadata": {},
   "outputs": [],
   "source": [
    "a6=np.random.randint(0,3,(3,3))"
   ]
  },
  {
   "cell_type": "code",
   "execution_count": 55,
   "id": "b23ebd69",
   "metadata": {},
   "outputs": [
    {
     "data": {
      "text/plain": [
       "array([[0, 1, 2],\n",
       "       [2, 0, 1],\n",
       "       [1, 2, 1]])"
      ]
     },
     "execution_count": 55,
     "metadata": {},
     "output_type": "execute_result"
    }
   ],
   "source": [
    "a6"
   ]
  },
  {
   "cell_type": "code",
   "execution_count": 56,
   "id": "2fccb4a9",
   "metadata": {},
   "outputs": [],
   "source": [
    "a7=np.random.randint(0,3,(3,3))"
   ]
  },
  {
   "cell_type": "code",
   "execution_count": 57,
   "id": "a56ba6af",
   "metadata": {},
   "outputs": [
    {
     "data": {
      "text/plain": [
       "array([[0, 1, 1],\n",
       "       [2, 2, 1],\n",
       "       [0, 1, 1]])"
      ]
     },
     "execution_count": 57,
     "metadata": {},
     "output_type": "execute_result"
    }
   ],
   "source": [
    "a7"
   ]
  },
  {
   "cell_type": "code",
   "execution_count": 60,
   "id": "2c53d4f2",
   "metadata": {},
   "outputs": [
    {
     "data": {
      "text/plain": [
       "array([[0, 1, 2],\n",
       "       [4, 0, 1],\n",
       "       [0, 2, 1]])"
      ]
     },
     "execution_count": 60,
     "metadata": {},
     "output_type": "execute_result"
    }
   ],
   "source": [
    "a6*a7# do simple multiplication as simpe not do matrix multiplication"
   ]
  },
  {
   "cell_type": "code",
   "execution_count": 61,
   "id": "919928f4",
   "metadata": {},
   "outputs": [],
   "source": [
    "a8=np.array([[1,2],[3,4]])"
   ]
  },
  {
   "cell_type": "code",
   "execution_count": 62,
   "id": "f776438e",
   "metadata": {},
   "outputs": [],
   "source": [
    "a9=np.array([[1,2,4],[6,1,1]])"
   ]
  },
  {
   "cell_type": "code",
   "execution_count": 64,
   "id": "913b052d",
   "metadata": {},
   "outputs": [
    {
     "data": {
      "text/plain": [
       "array([[2, 4, 3],\n",
       "       [0, 3, 3],\n",
       "       [4, 6, 4]])"
      ]
     },
     "execution_count": 64,
     "metadata": {},
     "output_type": "execute_result"
    }
   ],
   "source": [
    "a6@a7# Matrix multiplication"
   ]
  },
  {
   "cell_type": "code",
   "execution_count": 67,
   "id": "bb7e5147",
   "metadata": {},
   "outputs": [
    {
     "data": {
      "text/plain": [
       "array([[2, 4, 3],\n",
       "       [0, 3, 3],\n",
       "       [4, 6, 4]])"
      ]
     },
     "execution_count": 67,
     "metadata": {},
     "output_type": "execute_result"
    }
   ],
   "source": [
    "a6.dot(a7)# matrix multiplication"
   ]
  },
  {
   "cell_type": "code",
   "execution_count": 68,
   "id": "10ad6b26",
   "metadata": {},
   "outputs": [
    {
     "data": {
      "text/plain": [
       "array([[100, 101, 102],\n",
       "       [102, 100, 101],\n",
       "       [101, 102, 101]])"
      ]
     },
     "execution_count": 68,
     "metadata": {},
     "output_type": "execute_result"
    }
   ],
   "source": [
    "a6+100 # add 100 to each element"
   ]
  },
  {
   "cell_type": "code",
   "execution_count": 69,
   "id": "4179beea",
   "metadata": {},
   "outputs": [
    {
     "data": {
      "text/plain": [
       "array([[0, 2, 4],\n",
       "       [4, 0, 2],\n",
       "       [2, 4, 2]])"
      ]
     },
     "execution_count": 69,
     "metadata": {},
     "output_type": "execute_result"
    }
   ],
   "source": [
    "a6*2 # multiply by2 to each element"
   ]
  },
  {
   "cell_type": "code",
   "execution_count": 71,
   "id": "737cca50",
   "metadata": {},
   "outputs": [
    {
     "name": "stderr",
     "output_type": "stream",
     "text": [
      "<ipython-input-71-70bf32748b2e>:1: RuntimeWarning: divide by zero encountered in true_divide\n",
      "  a6/0# divide by Zsro with ech elemnt\n",
      "<ipython-input-71-70bf32748b2e>:1: RuntimeWarning: invalid value encountered in true_divide\n",
      "  a6/0# divide by Zsro with ech elemnt\n"
     ]
    },
    {
     "data": {
      "text/plain": [
       "array([[nan, inf, inf],\n",
       "       [inf, nan, inf],\n",
       "       [inf, inf, inf]])"
      ]
     },
     "execution_count": 71,
     "metadata": {},
     "output_type": "execute_result"
    }
   ],
   "source": [
    "a6/0# divide by Zsro with ech elemnt "
   ]
  },
  {
   "cell_type": "code",
   "execution_count": 72,
   "id": "deb57556",
   "metadata": {},
   "outputs": [
    {
     "data": {
      "text/plain": [
       "array([[0, 1, 8],\n",
       "       [8, 0, 1],\n",
       "       [1, 8, 1]], dtype=int32)"
      ]
     },
     "execution_count": 72,
     "metadata": {},
     "output_type": "execute_result"
    }
   ],
   "source": [
    "a6**3"
   ]
  },
  {
   "cell_type": "code",
   "execution_count": 75,
   "id": "cb85ec4a",
   "metadata": {},
   "outputs": [
    {
     "data": {
      "text/plain": [
       "array([[0., 0., 0.],\n",
       "       [0., 0., 0.],\n",
       "       [0., 0., 0.]])"
      ]
     },
     "execution_count": 75,
     "metadata": {},
     "output_type": "execute_result"
    }
   ],
   "source": [
    "np.zeros((3,3))# "
   ]
  },
  {
   "cell_type": "code",
   "execution_count": 76,
   "id": "54d58773",
   "metadata": {},
   "outputs": [
    {
     "data": {
      "text/plain": [
       "array([[1., 1., 1., 1.],\n",
       "       [1., 1., 1., 1.],\n",
       "       [1., 1., 1., 1.],\n",
       "       [1., 1., 1., 1.]])"
      ]
     },
     "execution_count": 76,
     "metadata": {},
     "output_type": "execute_result"
    }
   ],
   "source": [
    "np.ones((4,4))"
   ]
  },
  {
   "cell_type": "code",
   "execution_count": 77,
   "id": "f8780076",
   "metadata": {},
   "outputs": [],
   "source": [
    "a8=np.zeros((4,4))"
   ]
  },
  {
   "cell_type": "code",
   "execution_count": 78,
   "id": "ae606bc2",
   "metadata": {},
   "outputs": [
    {
     "data": {
      "text/plain": [
       "array([[0., 0., 0., 0.],\n",
       "       [0., 0., 0., 0.],\n",
       "       [0., 0., 0., 0.],\n",
       "       [0., 0., 0., 0.]])"
      ]
     },
     "execution_count": 78,
     "metadata": {},
     "output_type": "execute_result"
    }
   ],
   "source": [
    "a8"
   ]
  },
  {
   "cell_type": "code",
   "execution_count": 80,
   "id": "46baa97d",
   "metadata": {},
   "outputs": [],
   "source": [
    "a9=np.ones((4,5))"
   ]
  },
  {
   "cell_type": "code",
   "execution_count": 81,
   "id": "75468e8b",
   "metadata": {},
   "outputs": [
    {
     "data": {
      "text/plain": [
       "array([[11., 11., 11., 11., 11.],\n",
       "       [11., 11., 11., 11., 11.],\n",
       "       [11., 11., 11., 11., 11.],\n",
       "       [11., 11., 11., 11., 11.]])"
      ]
     },
     "execution_count": 81,
     "metadata": {},
     "output_type": "execute_result"
    }
   ],
   "source": [
    "a9+10"
   ]
  },
  {
   "cell_type": "code",
   "execution_count": 83,
   "id": "9270af9d",
   "metadata": {},
   "outputs": [
    {
     "data": {
      "text/plain": [
       "array([[2., 3., 4., 5., 6.],\n",
       "       [2., 3., 4., 5., 6.],\n",
       "       [2., 3., 4., 5., 6.],\n",
       "       [2., 3., 4., 5., 6.]])"
      ]
     },
     "execution_count": 83,
     "metadata": {},
     "output_type": "execute_result"
    }
   ],
   "source": [
    "a9+np.array([1,2,3,4,5])# row wise addition to each row of a9"
   ]
  },
  {
   "cell_type": "code",
   "execution_count": 84,
   "id": "3b8567a1",
   "metadata": {},
   "outputs": [
    {
     "data": {
      "text/plain": [
       "array([[1., 1., 1., 1., 1.],\n",
       "       [1., 1., 1., 1., 1.],\n",
       "       [1., 1., 1., 1., 1.],\n",
       "       [1., 1., 1., 1., 1.]])"
      ]
     },
     "execution_count": 84,
     "metadata": {},
     "output_type": "execute_result"
    }
   ],
   "source": [
    "a9"
   ]
  },
  {
   "cell_type": "code",
   "execution_count": 86,
   "id": "5f790d3d",
   "metadata": {},
   "outputs": [
    {
     "data": {
      "text/plain": [
       "array([[1],\n",
       "       [2],\n",
       "       [3],\n",
       "       [4]])"
      ]
     },
     "execution_count": 86,
     "metadata": {},
     "output_type": "execute_result"
    }
   ],
   "source": [
    "np.array([[1,2,3,4]]).T"
   ]
  },
  {
   "cell_type": "code",
   "execution_count": 88,
   "id": "95462578",
   "metadata": {},
   "outputs": [
    {
     "data": {
      "text/plain": [
       "array([[2., 2., 2., 2., 2.],\n",
       "       [3., 3., 3., 3., 3.],\n",
       "       [4., 4., 4., 4., 4.],\n",
       "       [5., 5., 5., 5., 5.]])"
      ]
     },
     "execution_count": 88,
     "metadata": {},
     "output_type": "execute_result"
    }
   ],
   "source": [
    "a9+np.array([[1,2,3,4]]).T"
   ]
  },
  {
   "cell_type": "code",
   "execution_count": 89,
   "id": "b8996593",
   "metadata": {},
   "outputs": [
    {
     "data": {
      "text/plain": [
       "array([[0, 2, 1],\n",
       "       [1, 0, 2],\n",
       "       [2, 1, 1]])"
      ]
     },
     "execution_count": 89,
     "metadata": {},
     "output_type": "execute_result"
    }
   ],
   "source": [
    "a6.T"
   ]
  },
  {
   "cell_type": "code",
   "execution_count": 91,
   "id": "17b71e62",
   "metadata": {},
   "outputs": [
    {
     "data": {
      "text/plain": [
       "array([[ 2.64575131, 28.26658805,  3.46410162,  2.64575131,  2.23606798],\n",
       "       [ 1.73205081,  2.64575131,  2.44948974,  2.64575131,  1.73205081],\n",
       "       [ 2.        ,  2.        ,  2.23606798,  1.41421356,  2.82842712],\n",
       "       [ 2.44948974,  2.        ,  2.82842712,  2.        ,  2.        ],\n",
       "       [ 2.        ,  2.64575131,  1.73205081,  2.82842712,  2.        ],\n",
       "       [ 2.23606798,  1.73205081,  2.82842712,  2.44948974,  2.23606798]])"
      ]
     },
     "execution_count": 91,
     "metadata": {},
     "output_type": "execute_result"
    }
   ],
   "source": [
    "np.sqrt(a5)"
   ]
  },
  {
   "cell_type": "code",
   "execution_count": 92,
   "id": "3b2e29d7",
   "metadata": {},
   "outputs": [
    {
     "name": "stderr",
     "output_type": "stream",
     "text": [
      "<ipython-input-92-4ed31d3941a0>:1: RuntimeWarning: overflow encountered in exp\n",
      "  np.exp(a5)\n"
     ]
    },
    {
     "data": {
      "text/plain": [
       "array([[1.09663316e+03,            inf, 1.62754791e+05, 1.09663316e+03,\n",
       "        1.48413159e+02],\n",
       "       [2.00855369e+01, 1.09663316e+03, 4.03428793e+02, 1.09663316e+03,\n",
       "        2.00855369e+01],\n",
       "       [5.45981500e+01, 5.45981500e+01, 1.48413159e+02, 7.38905610e+00,\n",
       "        2.98095799e+03],\n",
       "       [4.03428793e+02, 5.45981500e+01, 2.98095799e+03, 5.45981500e+01,\n",
       "        5.45981500e+01],\n",
       "       [5.45981500e+01, 1.09663316e+03, 2.00855369e+01, 2.98095799e+03,\n",
       "        5.45981500e+01],\n",
       "       [1.48413159e+02, 2.00855369e+01, 2.98095799e+03, 4.03428793e+02,\n",
       "        1.48413159e+02]])"
      ]
     },
     "execution_count": 92,
     "metadata": {},
     "output_type": "execute_result"
    }
   ],
   "source": [
    "np.exp(a5)"
   ]
  },
  {
   "cell_type": "code",
   "execution_count": 93,
   "id": "4ad2e3da",
   "metadata": {},
   "outputs": [
    {
     "data": {
      "text/plain": [
       "array([[0.84509804, 2.90254678, 1.07918125, 0.84509804, 0.69897   ],\n",
       "       [0.47712125, 0.84509804, 0.77815125, 0.84509804, 0.47712125],\n",
       "       [0.60205999, 0.60205999, 0.69897   , 0.30103   , 0.90308999],\n",
       "       [0.77815125, 0.60205999, 0.90308999, 0.60205999, 0.60205999],\n",
       "       [0.60205999, 0.84509804, 0.47712125, 0.90308999, 0.60205999],\n",
       "       [0.69897   , 0.47712125, 0.90308999, 0.77815125, 0.69897   ]])"
      ]
     },
     "execution_count": 93,
     "metadata": {},
     "output_type": "execute_result"
    }
   ],
   "source": [
    "np.log10(a5)"
   ]
  },
  {
   "cell_type": "code",
   "execution_count": 98,
   "id": "5afa90de",
   "metadata": {},
   "outputs": [
    {
     "data": {
      "text/plain": [
       "[0, 1, 2, 3, 4, 5, 6, 7, 8, 9]"
      ]
     },
     "execution_count": 98,
     "metadata": {},
     "output_type": "execute_result"
    }
   ],
   "source": [
    "list(range(0,10))# not work floating support "
   ]
  },
  {
   "cell_type": "code",
   "execution_count": 103,
   "id": "28e6f97e",
   "metadata": {},
   "outputs": [
    {
     "data": {
      "text/plain": [
       "array([1. , 3.5, 6. , 8.5])"
      ]
     },
     "execution_count": 103,
     "metadata": {},
     "output_type": "execute_result"
    }
   ],
   "source": [
    "np.arange(1,10,2.5)# floating jump value works in it is only difference otherwise same"
   ]
  },
  {
   "cell_type": "code",
   "execution_count": 106,
   "id": "b07ff1fd",
   "metadata": {},
   "outputs": [
    {
     "data": {
      "text/plain": [
       "array([2.        , 2.05263158, 2.10526316, 2.15789474, 2.21052632,\n",
       "       2.26315789, 2.31578947, 2.36842105, 2.42105263, 2.47368421,\n",
       "       2.52631579, 2.57894737, 2.63157895, 2.68421053, 2.73684211,\n",
       "       2.78947368, 2.84210526, 2.89473684, 2.94736842, 3.        ])"
      ]
     },
     "execution_count": 106,
     "metadata": {},
     "output_type": "execute_result"
    }
   ],
   "source": [
    "np.linspace(2,3,num=20)# between twi number how no of numbers we want "
   ]
  },
  {
   "cell_type": "code",
   "execution_count": 108,
   "id": "5007b50e",
   "metadata": {},
   "outputs": [
    {
     "data": {
      "text/plain": [
       "array([2.        , 2.02040816, 2.04081633, 2.06122449, 2.08163265,\n",
       "       2.10204082, 2.12244898, 2.14285714, 2.16326531, 2.18367347,\n",
       "       2.20408163, 2.2244898 , 2.24489796, 2.26530612, 2.28571429,\n",
       "       2.30612245, 2.32653061, 2.34693878, 2.36734694, 2.3877551 ,\n",
       "       2.40816327, 2.42857143, 2.44897959, 2.46938776, 2.48979592,\n",
       "       2.51020408, 2.53061224, 2.55102041, 2.57142857, 2.59183673,\n",
       "       2.6122449 , 2.63265306, 2.65306122, 2.67346939, 2.69387755,\n",
       "       2.71428571, 2.73469388, 2.75510204, 2.7755102 , 2.79591837,\n",
       "       2.81632653, 2.83673469, 2.85714286, 2.87755102, 2.89795918,\n",
       "       2.91836735, 2.93877551, 2.95918367, 2.97959184, 3.        ])"
      ]
     },
     "execution_count": 108,
     "metadata": {},
     "output_type": "execute_result"
    }
   ],
   "source": [
    "np.linspace(2,3)# by default 50 numbrs it gives"
   ]
  },
  {
   "cell_type": "code",
   "execution_count": 110,
   "id": "5294e13d",
   "metadata": {},
   "outputs": [
    {
     "data": {
      "text/plain": [
       "(array([2.        , 2.02040816, 2.04081633, 2.06122449, 2.08163265,\n",
       "        2.10204082, 2.12244898, 2.14285714, 2.16326531, 2.18367347,\n",
       "        2.20408163, 2.2244898 , 2.24489796, 2.26530612, 2.28571429,\n",
       "        2.30612245, 2.32653061, 2.34693878, 2.36734694, 2.3877551 ,\n",
       "        2.40816327, 2.42857143, 2.44897959, 2.46938776, 2.48979592,\n",
       "        2.51020408, 2.53061224, 2.55102041, 2.57142857, 2.59183673,\n",
       "        2.6122449 , 2.63265306, 2.65306122, 2.67346939, 2.69387755,\n",
       "        2.71428571, 2.73469388, 2.75510204, 2.7755102 , 2.79591837,\n",
       "        2.81632653, 2.83673469, 2.85714286, 2.87755102, 2.89795918,\n",
       "        2.91836735, 2.93877551, 2.95918367, 2.97959184, 3.        ]),\n",
       " 0.02040816326530612)"
      ]
     },
     "execution_count": 110,
     "metadata": {},
     "output_type": "execute_result"
    }
   ],
   "source": [
    "np.linspace(2,3,retstep=True)# retspace will give the jump size"
   ]
  },
  {
   "cell_type": "code",
   "execution_count": 112,
   "id": "5fff7323",
   "metadata": {},
   "outputs": [
    {
     "data": {
      "text/plain": [
       "array([  100.        ,   464.15888336,  2154.43469003, 10000.        ])"
      ]
     },
     "execution_count": 112,
     "metadata": {},
     "output_type": "execute_result"
    }
   ],
   "source": [
    "np.logspace(2,4,num=4)"
   ]
  },
  {
   "cell_type": "code",
   "execution_count": 114,
   "id": "fc4a500a",
   "metadata": {},
   "outputs": [
    {
     "data": {
      "text/plain": [
       "array([[1., 0., 0., 0., 0.],\n",
       "       [0., 1., 0., 0., 0.],\n",
       "       [0., 0., 1., 0., 0.],\n",
       "       [0., 0., 0., 1., 0.],\n",
       "       [0., 0., 0., 0., 1.]])"
      ]
     },
     "execution_count": 114,
     "metadata": {},
     "output_type": "execute_result"
    }
   ],
   "source": [
    "np.eye(5)# identity Matrix"
   ]
  },
  {
   "cell_type": "code",
   "execution_count": null,
   "id": "ecd79db2",
   "metadata": {},
   "outputs": [],
   "source": []
  }
 ],
 "metadata": {
  "kernelspec": {
   "display_name": "Python 3",
   "language": "python",
   "name": "python3"
  },
  "language_info": {
   "codemirror_mode": {
    "name": "ipython",
    "version": 3
   },
   "file_extension": ".py",
   "mimetype": "text/x-python",
   "name": "python",
   "nbconvert_exporter": "python",
   "pygments_lexer": "ipython3",
   "version": "3.8.8"
  }
 },
 "nbformat": 4,
 "nbformat_minor": 5
}
