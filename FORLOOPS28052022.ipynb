{
 "cells": [
  {
   "cell_type": "code",
   "execution_count": 1,
   "id": "1920d57b",
   "metadata": {},
   "outputs": [],
   "source": [
    "l=[1,2,3,4,'Ragh','Yadav',45.55]\n"
   ]
  },
  {
   "cell_type": "code",
   "execution_count": 2,
   "id": "f3d338b7",
   "metadata": {},
   "outputs": [
    {
     "name": "stdout",
     "output_type": "stream",
     "text": [
      "1\n",
      "2\n",
      "3\n",
      "4\n",
      "Ragh\n",
      "Yadav\n",
      "45.55\n"
     ]
    }
   ],
   "source": [
    "for i in l:\n",
    "    print(i)"
   ]
  },
  {
   "cell_type": "code",
   "execution_count": 3,
   "id": "2bb4bc06",
   "metadata": {},
   "outputs": [
    {
     "ename": "SyntaxError",
     "evalue": "unexpected EOF while parsing (<ipython-input-3-b882057075b2>, line 2)",
     "output_type": "error",
     "traceback": [
      "\u001b[1;36m  File \u001b[1;32m\"<ipython-input-3-b882057075b2>\"\u001b[1;36m, line \u001b[1;32m2\u001b[0m\n\u001b[1;33m    \u001b[0m\n\u001b[1;37m    ^\u001b[0m\n\u001b[1;31mSyntaxError\u001b[0m\u001b[1;31m:\u001b[0m unexpected EOF while parsing\n"
     ]
    }
   ],
   "source": [
    "for i in l:\n",
    "    "
   ]
  },
  {
   "cell_type": "code",
   "execution_count": 4,
   "id": "9822259d",
   "metadata": {},
   "outputs": [],
   "source": [
    "for i in l:\n",
    "    pass"
   ]
  },
  {
   "cell_type": "code",
   "execution_count": 6,
   "id": "bc181988",
   "metadata": {},
   "outputs": [
    {
     "name": "stdout",
     "output_type": "stream",
     "text": [
      "R\n",
      "a\n",
      "g\n",
      "h\n"
     ]
    }
   ],
   "source": [
    "s='Ragh'\n",
    "for i in s:\n",
    "    print(i)"
   ]
  },
  {
   "cell_type": "code",
   "execution_count": 8,
   "id": "81f463e9",
   "metadata": {},
   "outputs": [
    {
     "name": "stdout",
     "output_type": "stream",
     "text": [
      "1\n",
      "2\n",
      "3\n",
      "4\n",
      "Ragh\n",
      "Yadav\n",
      "45.55\n",
      "If loops is complete else will execute\n"
     ]
    }
   ],
   "source": [
    "#for + else Statement\n",
    "for i in l:\n",
    "    print(i)\n",
    "else:\n",
    "    print('If loops is complete else will execute')"
   ]
  },
  {
   "cell_type": "code",
   "execution_count": 9,
   "id": "2a083370",
   "metadata": {},
   "outputs": [
    {
     "name": "stdout",
     "output_type": "stream",
     "text": [
      "1\n",
      "2\n",
      "3\n"
     ]
    }
   ],
   "source": [
    "for i in l:\n",
    "    if i==4:\n",
    "        break\n",
    "    print(i)\n",
    "else:\n",
    "    print('This will execute if for is going to complete itself')"
   ]
  },
  {
   "cell_type": "code",
   "execution_count": 10,
   "id": "2da64bbf",
   "metadata": {},
   "outputs": [
    {
     "name": "stdout",
     "output_type": "stream",
     "text": [
      "4\n",
      "This will execute if for is going to complete itself\n"
     ]
    }
   ],
   "source": [
    "for i in l:\n",
    "    if i==4:\n",
    "        print(i)\n",
    "else:\n",
    "    print('This will execute if for is going to complete itself')"
   ]
  },
  {
   "cell_type": "code",
   "execution_count": 11,
   "id": "9989c754",
   "metadata": {},
   "outputs": [
    {
     "name": "stdout",
     "output_type": "stream",
     "text": [
      "R\n",
      "a\n",
      "g\n",
      "h\n",
      "v\n",
      "e\n"
     ]
    }
   ],
   "source": [
    "s='Raghvendra'\n",
    "for i in s:\n",
    "    if i=='n':\n",
    "        break\n",
    "    print(i)\n",
    "else:\n",
    "    print('print String',s)"
   ]
  },
  {
   "cell_type": "code",
   "execution_count": 12,
   "id": "2bfda727",
   "metadata": {},
   "outputs": [
    {
     "name": "stdout",
     "output_type": "stream",
     "text": [
      "R\n",
      "a\n",
      "g\n",
      "h\n",
      "v\n",
      "e\n",
      "n\n",
      "d\n",
      "r\n",
      "a\n",
      "print String Raghvendra\n"
     ]
    }
   ],
   "source": [
    "s='Raghvendra'\n",
    "for i in s:\n",
    "    if i=='p':\n",
    "        break\n",
    "    print(i)\n",
    "else:\n",
    "    print('print String',s)"
   ]
  },
  {
   "cell_type": "code",
   "execution_count": 14,
   "id": "f2405003",
   "metadata": {},
   "outputs": [
    {
     "name": "stdout",
     "output_type": "stream",
     "text": [
      "4\n",
      "5\n",
      "6\n",
      "7\n",
      "8\n",
      "6\n",
      "Ragh\n"
     ]
    }
   ],
   "source": [
    "t=(4,5,6,7,8,6,'Ragh')\n",
    "for i in t:\n",
    "    print(i)"
   ]
  },
  {
   "cell_type": "code",
   "execution_count": 16,
   "id": "4e171922",
   "metadata": {},
   "outputs": [
    {
     "name": "stdout",
     "output_type": "stream",
     "text": [
      "1\n",
      "2\n",
      "3\n",
      "4\n",
      "5\n",
      "43\n",
      "44\n",
      "45\n",
      "55\n",
      "56\n"
     ]
    }
   ],
   "source": [
    "b={1,2,2,3,4,5,45,44,55,44,55,56,56,43,43,2}\n",
    "for i in b:\n",
    "    print(i)"
   ]
  },
  {
   "cell_type": "code",
   "execution_count": 17,
   "id": "2f2f046c",
   "metadata": {},
   "outputs": [
    {
     "data": {
      "text/plain": [
       "set"
      ]
     },
     "execution_count": 17,
     "metadata": {},
     "output_type": "execute_result"
    }
   ],
   "source": [
    "type(b)"
   ]
  },
  {
   "cell_type": "code",
   "execution_count": 18,
   "id": "3433e5ad",
   "metadata": {},
   "outputs": [
    {
     "name": "stdout",
     "output_type": "stream",
     "text": [
      "1\n",
      "2\n",
      "3\n",
      "4\n",
      "5\n",
      "43\n",
      "44\n",
      "45\n",
      "55\n",
      "56\n"
     ]
    }
   ],
   "source": [
    "for i in b:\n",
    "    print(i)"
   ]
  },
  {
   "cell_type": "code",
   "execution_count": 19,
   "id": "da1066a3",
   "metadata": {},
   "outputs": [
    {
     "name": "stdout",
     "output_type": "stream",
     "text": [
      "key1\n",
      "roll\n",
      "email\n"
     ]
    }
   ],
   "source": [
    "d={'key1':'RA','roll':123,'email':'@gmail.com'}\n",
    "#Extract keys\n",
    "for i in d:\n",
    "    print(i)"
   ]
  },
  {
   "cell_type": "code",
   "execution_count": 20,
   "id": "9f9cc506",
   "metadata": {},
   "outputs": [
    {
     "name": "stdout",
     "output_type": "stream",
     "text": [
      "RA\n",
      "123\n",
      "@gmail.com\n"
     ]
    }
   ],
   "source": [
    "#To etract Values\n",
    "for i in d:\n",
    "    print(d[i])"
   ]
  },
  {
   "cell_type": "code",
   "execution_count": 21,
   "id": "d9d46a74",
   "metadata": {},
   "outputs": [
    {
     "data": {
      "text/plain": [
       "'RA'"
      ]
     },
     "execution_count": 21,
     "metadata": {},
     "output_type": "execute_result"
    }
   ],
   "source": [
    "d['key1']"
   ]
  },
  {
   "cell_type": "code",
   "execution_count": 22,
   "id": "169d5753",
   "metadata": {},
   "outputs": [
    {
     "name": "stdout",
     "output_type": "stream",
     "text": [
      "RA\n",
      "123\n",
      "@gmail.com\n"
     ]
    }
   ],
   "source": [
    "# Direct Extract Values\n",
    "for i in d.values():\n",
    "    print(i)"
   ]
  },
  {
   "cell_type": "code",
   "execution_count": 23,
   "id": "65fde56b",
   "metadata": {},
   "outputs": [
    {
     "name": "stdout",
     "output_type": "stream",
     "text": [
      "('key1', 'RA')\n",
      "('roll', 123)\n",
      "('email', '@gmail.com')\n"
     ]
    }
   ],
   "source": [
    "# Extract key and values\n",
    "for i in d.items():\n",
    "    print(i)"
   ]
  },
  {
   "cell_type": "code",
   "execution_count": 24,
   "id": "406ff5ab",
   "metadata": {},
   "outputs": [
    {
     "name": "stdout",
     "output_type": "stream",
     "text": [
      "key1 : RA\n",
      "roll : 123\n",
      "email : @gmail.com\n"
     ]
    }
   ],
   "source": [
    "for i in d:\n",
    "    print(i,':',d[i])"
   ]
  },
  {
   "cell_type": "code",
   "execution_count": 26,
   "id": "78cc22ec",
   "metadata": {},
   "outputs": [
    {
     "data": {
      "text/plain": [
       "range(0, 9)"
      ]
     },
     "execution_count": 26,
     "metadata": {},
     "output_type": "execute_result"
    }
   ],
   "source": [
    "#Nested For Loops\n",
    "#Range Funtion\n",
    "range(9)"
   ]
  },
  {
   "cell_type": "code",
   "execution_count": 28,
   "id": "0133e017",
   "metadata": {},
   "outputs": [
    {
     "data": {
      "text/plain": [
       "[0, 1, 2, 3, 4, 5, 6, 7, 8]"
      ]
     },
     "execution_count": 28,
     "metadata": {},
     "output_type": "execute_result"
    }
   ],
   "source": [
    "list(range(9))"
   ]
  },
  {
   "cell_type": "code",
   "execution_count": 29,
   "id": "0061c445",
   "metadata": {},
   "outputs": [
    {
     "name": "stdout",
     "output_type": "stream",
     "text": [
      "0\n",
      "1\n",
      "2\n",
      "3\n",
      "4\n",
      "5\n",
      "6\n",
      "7\n",
      "8\n"
     ]
    }
   ],
   "source": [
    "for i in range(9):\n",
    "    print(i)"
   ]
  },
  {
   "cell_type": "code",
   "execution_count": 30,
   "id": "806708b4",
   "metadata": {},
   "outputs": [
    {
     "data": {
      "text/plain": [
       "[0, 1, 2, 3, 4, 5, 6, 7, 8]"
      ]
     },
     "execution_count": 30,
     "metadata": {},
     "output_type": "execute_result"
    }
   ],
   "source": [
    "list(range(0,9))"
   ]
  },
  {
   "cell_type": "code",
   "execution_count": 31,
   "id": "4789ce1f",
   "metadata": {},
   "outputs": [
    {
     "data": {
      "text/plain": [
       "[0, 3, 6]"
      ]
     },
     "execution_count": 31,
     "metadata": {},
     "output_type": "execute_result"
    }
   ],
   "source": [
    "list(range(0,9,3))"
   ]
  },
  {
   "cell_type": "code",
   "execution_count": 34,
   "id": "9bfc43d4",
   "metadata": {},
   "outputs": [
    {
     "name": "stdout",
     "output_type": "stream",
     "text": [
      "Sudh \n",
      "Sudh Sudh \n",
      "Sudh Sudh Sudh \n",
      "Sudh Sudh Sudh Sudh \n"
     ]
    }
   ],
   "source": [
    "for i in range(0,4):\n",
    "    for j in range(i+1):\n",
    "        print('Sudh',end=' ')\n",
    "    print()"
   ]
  },
  {
   "cell_type": "code",
   "execution_count": 35,
   "id": "ed38382a",
   "metadata": {},
   "outputs": [
    {
     "name": "stdout",
     "output_type": "stream",
     "text": [
      "Ragh \n",
      "Ragh Ragh \n",
      "Ragh Ragh Ragh \n",
      "Ragh Ragh Ragh Ragh \n"
     ]
    }
   ],
   "source": [
    "n=4\n",
    "for i in range(4):\n",
    "    for j in range(i+1):\n",
    "        print('Ragh',end=' ')\n",
    "    print()"
   ]
  },
  {
   "cell_type": "code",
   "execution_count": 36,
   "id": "d766b3b2",
   "metadata": {},
   "outputs": [
    {
     "name": "stdout",
     "output_type": "stream",
     "text": [
      "Ragh \n",
      "Ragh Ragh \n",
      "Ragh Ragh Ragh \n",
      "Ragh Ragh Ragh Ragh \n"
     ]
    }
   ],
   "source": [
    "n=4\n",
    "for i in range(4):\n",
    "    for j in range(i+1):\n",
    "        print('Ragh ',end='')\n",
    "    print()"
   ]
  },
  {
   "cell_type": "code",
   "execution_count": 38,
   "id": "8be186a3",
   "metadata": {},
   "outputs": [
    {
     "name": "stdout",
     "output_type": "stream",
     "text": [
      "          Ragh \n",
      "     Ragh Ragh Ragh \n",
      "Ragh Ragh Ragh Ragh Ragh \n"
     ]
    }
   ],
   "source": [
    "n=3\n",
    "for i in range(n):\n",
    "    for j in range(i,n-1):\n",
    "        print(' '*len('Ragh'),end=' ')\n",
    "    for j in range(i+1):\n",
    "        print('Ragh',end=' ')\n",
    "    for j in range(i):\n",
    "        print('Ragh',end=' ')\n",
    "    print()\n",
    "    "
   ]
  },
  {
   "cell_type": "code",
   "execution_count": 104,
   "id": "19fd4440",
   "metadata": {},
   "outputs": [
    {
     "name": "stdout",
     "output_type": "stream",
     "text": [
      "      RAGH \n",
      "    RAGH RAGH \n",
      "  RAGH RAGH RAGH \n",
      "RAGH RAGH RAGH RAGH \n"
     ]
    }
   ],
   "source": [
    "n=4\n",
    "k=n\n",
    "for i in range(n):\n",
    "    k=k-1\n",
    "    print('  '*k,end='')\n",
    "    for j in range(i+1):\n",
    "        print('RAGH ',end='')\n",
    "    print()"
   ]
  },
  {
   "cell_type": "code",
   "execution_count": 41,
   "id": "fadbed19",
   "metadata": {},
   "outputs": [
    {
     "name": "stdout",
     "output_type": "stream",
     "text": [
      "      RAGH \n",
      "   RAGH RAGH \n",
      "RAGH RAGH RAGH \n"
     ]
    }
   ],
   "source": [
    "n=3\n",
    "k=n\n",
    "for i in range(n):\n",
    "    k=k-1\n",
    "    print('   '*k,end='')\n",
    "    for j in range(i+1):\n",
    "        print('RAGH ',end='')\n",
    "    print()"
   ]
  },
  {
   "cell_type": "code",
   "execution_count": 50,
   "id": "90c92eb7",
   "metadata": {},
   "outputs": [
    {
     "name": "stdout",
     "output_type": "stream",
     "text": [
      "0 3\n",
      "1 23\n",
      "2 45\n",
      "3 67\n",
      "4 2\n",
      "5 4\n",
      "6 5\n",
      "7 6\n"
     ]
    }
   ],
   "source": [
    "t=(3,23,45,67,2,4,5,6)\n",
    "for i in t:\n",
    "    print(t.index(i),i,end='\\n')\n",
    "   "
   ]
  },
  {
   "cell_type": "code",
   "execution_count": 45,
   "id": "ef819166",
   "metadata": {},
   "outputs": [
    {
     "name": "stdout",
     "output_type": "stream",
     "text": [
      "0 3\n",
      "1 23\n",
      "2 45\n",
      "3 67\n",
      "4 2\n",
      "5 4\n",
      "6 5\n",
      "7 6\n"
     ]
    }
   ],
   "source": [
    "t=(3,23,45,67,2,4,5,6)\n",
    "for i in range(0,len(t)):\n",
    "    print(i,t[i])"
   ]
  },
  {
   "cell_type": "code",
   "execution_count": 47,
   "id": "b9c4ad68",
   "metadata": {},
   "outputs": [
    {
     "data": {
      "text/plain": [
       "0"
      ]
     },
     "execution_count": 47,
     "metadata": {},
     "output_type": "execute_result"
    }
   ],
   "source": [
    "t.index(3)"
   ]
  },
  {
   "cell_type": "code",
   "execution_count": 51,
   "id": "a29cd8bd",
   "metadata": {},
   "outputs": [
    {
     "name": "stdout",
     "output_type": "stream",
     "text": [
      "0 i\n",
      "1 n\n",
      "2 e\n",
      "3 u\n",
      "4 r\n",
      "5 o\n",
      "1 n\n"
     ]
    }
   ],
   "source": [
    "s='ineuron'\n",
    "for i in s:\n",
    "    print(s.index(i),i,end='\\n')"
   ]
  },
  {
   "cell_type": "code",
   "execution_count": 52,
   "id": "a1c5e3f9",
   "metadata": {},
   "outputs": [
    {
     "name": "stdout",
     "output_type": "stream",
     "text": [
      "0 i\n",
      "1 n\n",
      "2 e\n",
      "3 u\n",
      "4 r\n",
      "5 o\n",
      "6 n\n"
     ]
    }
   ],
   "source": [
    "s='ineuron'\n",
    "for i in range(0,len(s)):\n",
    "    print(i,s[i],end='\\n')"
   ]
  },
  {
   "cell_type": "code",
   "execution_count": 55,
   "id": "7bcbdfe8",
   "metadata": {},
   "outputs": [
    {
     "name": "stdout",
     "output_type": "stream",
     "text": [
      "6 n\n",
      "5 o\n",
      "4 r\n",
      "3 u\n",
      "2 e\n",
      "1 n\n"
     ]
    }
   ],
   "source": [
    "s='ineuron'\n",
    "for i in range(len(s)-1,0,-1):\n",
    "    print(i,s[i],end='\\n')"
   ]
  },
  {
   "cell_type": "code",
   "execution_count": 56,
   "id": "48801e5a",
   "metadata": {},
   "outputs": [
    {
     "data": {
      "text/plain": [
       "[7, 6, 5, 4, 3, 2, 1]"
      ]
     },
     "execution_count": 56,
     "metadata": {},
     "output_type": "execute_result"
    }
   ],
   "source": [
    "list(range(len(s),0,-1))"
   ]
  },
  {
   "cell_type": "code",
   "execution_count": 57,
   "id": "3c63315e",
   "metadata": {},
   "outputs": [
    {
     "data": {
      "text/plain": [
       "[7, 6, 5, 4, 3, 2, 1, 0]"
      ]
     },
     "execution_count": 57,
     "metadata": {},
     "output_type": "execute_result"
    }
   ],
   "source": [
    "list(range(len(s),-1,-1))"
   ]
  },
  {
   "cell_type": "code",
   "execution_count": 59,
   "id": "ea004e05",
   "metadata": {},
   "outputs": [
    {
     "name": "stdout",
     "output_type": "stream",
     "text": [
      "19 e\n",
      "18 c\n",
      "17 n\n",
      "16 e\n",
      "15 g\n",
      "14 i\n",
      "13 l\n",
      "12 l\n",
      "11 e\n",
      "10 t\n",
      "9 n\n",
      "8 I\n",
      "7  \n",
      "6 n\n",
      "5 o\n",
      "4 r\n",
      "3 u\n",
      "2 e\n",
      "1 n\n",
      "0 i\n"
     ]
    }
   ],
   "source": [
    "s='ineuron Intelligence'\n",
    "for i in range(len(s)-1,-1,-1):\n",
    "    print(i,s[i],end='\\n')"
   ]
  },
  {
   "cell_type": "code",
   "execution_count": 60,
   "id": "6cab9568",
   "metadata": {},
   "outputs": [
    {
     "data": {
      "text/plain": [
       "{'key1': 'RA', 'roll': 123, 'email': '@gmail.com'}"
      ]
     },
     "execution_count": 60,
     "metadata": {},
     "output_type": "execute_result"
    }
   ],
   "source": [
    "d"
   ]
  },
  {
   "cell_type": "code",
   "execution_count": 62,
   "id": "5a09c310",
   "metadata": {},
   "outputs": [
    {
     "name": "stdout",
     "output_type": "stream",
     "text": [
      "('key1', 'RA') <class 'tuple'> <class 'str'>\n",
      "('roll', 123) <class 'tuple'> <class 'int'>\n",
      "('email', '@gmail.com') <class 'tuple'> <class 'str'>\n"
     ]
    }
   ],
   "source": [
    "for i in d.items():\n",
    "    print(i,type(i),type(i[1]))"
   ]
  },
  {
   "cell_type": "code",
   "execution_count": 65,
   "id": "85b61379",
   "metadata": {},
   "outputs": [
    {
     "name": "stdout",
     "output_type": "stream",
     "text": [
      "[2324, 342, 34556]\n"
     ]
    }
   ],
   "source": [
    "# Extract if integer vales\n",
    "l=['sudh','kumar',2324,'sudhanshu',342,34556]\n",
    "l1=[]\n",
    "for i in l:\n",
    "    if type(i)==int:\n",
    "        l1.append(i)\n",
    "        \n",
    "print(l1)\n",
    "        "
   ]
  },
  {
   "cell_type": "code",
   "execution_count": 67,
   "id": "16f69a6d",
   "metadata": {},
   "outputs": [
    {
     "name": "stdout",
     "output_type": "stream",
     "text": [
      "1 : 2324\n",
      "234 : 3244\n"
     ]
    }
   ],
   "source": [
    "d={1:2324,'name':'Ragh','email':'@mgmakf.com',234:'ghg','43':'fsad',234:\"3244\"}\n",
    "for i in d:\n",
    "    if type(i)==int:\n",
    "        print(i,':',d[i],end='\\n')"
   ]
  },
  {
   "cell_type": "code",
   "execution_count": 73,
   "id": "0b62efb4",
   "metadata": {},
   "outputs": [],
   "source": [
    "s='aaaabbccdd'\n",
    "se=set(s)"
   ]
  },
  {
   "cell_type": "code",
   "execution_count": 77,
   "id": "06bfa382",
   "metadata": {},
   "outputs": [
    {
     "name": "stdout",
     "output_type": "stream",
     "text": [
      "d : 2\n",
      "c : 2\n",
      "a : 4\n",
      "b : 2\n"
     ]
    }
   ],
   "source": [
    "for i in set(s):\n",
    "    print(i,':',s.count(i),end='\\n')"
   ]
  },
  {
   "cell_type": "code",
   "execution_count": 82,
   "id": "ad10fed1",
   "metadata": {},
   "outputs": [
    {
     "name": "stdout",
     "output_type": "stream",
     "text": [
      "1\n",
      "7\n",
      "4\n",
      "7\n",
      "3\n",
      "7\n",
      "5\n",
      "7\n",
      "5\n",
      "0\n",
      "7\n",
      "3\n",
      "5\n",
      "7\n",
      "2\n",
      "7\n",
      "0\n",
      "7\n",
      "0\n"
     ]
    }
   ],
   "source": [
    "i=1747375750735727070\n",
    "for j in str(i):\n",
    "    print(int(j))"
   ]
  },
  {
   "cell_type": "code",
   "execution_count": 86,
   "id": "2c708ab5",
   "metadata": {},
   "outputs": [],
   "source": [
    "t=('Sudh','Kumar',[1,2,3,4,5],(3,4,5,6),{'k1':'Sudh','k':'umar'})"
   ]
  },
  {
   "cell_type": "code",
   "execution_count": 87,
   "id": "a7b05df9",
   "metadata": {},
   "outputs": [
    {
     "name": "stdout",
     "output_type": "stream",
     "text": [
      "Find the Number 3\n",
      "Find the Number 3\n"
     ]
    }
   ],
   "source": [
    "for i in t:\n",
    "    if type(i)==list or type(i)==tuple:\n",
    "        for j in i:\n",
    "            if j ==3:\n",
    "                print('Find the Number 3')"
   ]
  },
  {
   "cell_type": "code",
   "execution_count": 88,
   "id": "23588580",
   "metadata": {},
   "outputs": [],
   "source": [
    "t=('Sudh','Kumar',[1,2,3,4,5],(3,4,5,6),{'k1':'Sudh','k2':'kumar'})"
   ]
  },
  {
   "cell_type": "code",
   "execution_count": 90,
   "id": "d7507b30",
   "metadata": {},
   "outputs": [
    {
     "name": "stdout",
     "output_type": "stream",
     "text": [
      "3\n",
      "3\n"
     ]
    }
   ],
   "source": [
    "for i in t:\n",
    "    if type(i)==list or type(i)==tuple:\n",
    "        for j in i:\n",
    "            if j ==3:\n",
    "                print(j)"
   ]
  },
  {
   "cell_type": "code",
   "execution_count": 94,
   "id": "d70ee744",
   "metadata": {},
   "outputs": [
    {
     "name": "stdout",
     "output_type": "stream",
     "text": [
      "Find the Number 3\n",
      "Find the Number 3\n",
      "3\n",
      "3\n",
      "3\n"
     ]
    }
   ],
   "source": [
    "t=('Sudh','Kumar',[1,2,3,4,5],(3,4,5,6),{3:3,'k2':3})\n",
    "for i in t:\n",
    "    if type(i)==list or type(i)==tuple:\n",
    "        for j in i:\n",
    "            if j ==3:\n",
    "                print('Find the Number 3')\n",
    "    if type(i)==dict:\n",
    "        for j,k in i.items():\n",
    "            if j==3:\n",
    "                print(j)\n",
    "            if k==3:\n",
    "                print(k)"
   ]
  },
  {
   "cell_type": "code",
   "execution_count": 95,
   "id": "ddea930e",
   "metadata": {},
   "outputs": [],
   "source": [
    "d={4:5,'k1':'Ragh','k2':'Yadav'}"
   ]
  },
  {
   "cell_type": "code",
   "execution_count": 96,
   "id": "44cc2cd3",
   "metadata": {},
   "outputs": [
    {
     "name": "stdout",
     "output_type": "stream",
     "text": [
      "4 5\n",
      "k1 Ragh\n",
      "k2 Yadav\n"
     ]
    }
   ],
   "source": [
    "for i,j in d.items():\n",
    "    print(i,j)"
   ]
  },
  {
   "cell_type": "code",
   "execution_count": 97,
   "id": "6c273f87",
   "metadata": {},
   "outputs": [],
   "source": [
    "a,b,c=1,2,3"
   ]
  },
  {
   "cell_type": "code",
   "execution_count": 98,
   "id": "06ec1092",
   "metadata": {},
   "outputs": [],
   "source": [
    "a,b,c=(1,2,3)"
   ]
  },
  {
   "cell_type": "code",
   "execution_count": 99,
   "id": "670a0105",
   "metadata": {},
   "outputs": [
    {
     "data": {
      "text/plain": [
       "1"
      ]
     },
     "execution_count": 99,
     "metadata": {},
     "output_type": "execute_result"
    }
   ],
   "source": [
    "a"
   ]
  },
  {
   "cell_type": "code",
   "execution_count": 100,
   "id": "f5bc4ddd",
   "metadata": {},
   "outputs": [
    {
     "data": {
      "text/plain": [
       "2"
      ]
     },
     "execution_count": 100,
     "metadata": {},
     "output_type": "execute_result"
    }
   ],
   "source": [
    "b"
   ]
  },
  {
   "cell_type": "code",
   "execution_count": 101,
   "id": "2f32fef1",
   "metadata": {},
   "outputs": [
    {
     "data": {
      "text/plain": [
       "3"
      ]
     },
     "execution_count": 101,
     "metadata": {},
     "output_type": "execute_result"
    }
   ],
   "source": [
    "c"
   ]
  },
  {
   "cell_type": "code",
   "execution_count": 103,
   "id": "ef782608",
   "metadata": {},
   "outputs": [
    {
     "name": "stdout",
     "output_type": "stream",
     "text": [
      "Ineuon \n",
      "Ineuon Ineuon \n",
      "Ineuon Ineuon Ineuon \n",
      "Ineuon Ineuon Ineuon Ineuon \n"
     ]
    }
   ],
   "source": [
    "#Q1\n",
    "for i in range(4):\n",
    "    for j in range(i+1):\n",
    "        print('Ineuon',end=' ')\n",
    "    print()"
   ]
  },
  {
   "cell_type": "code",
   "execution_count": 106,
   "id": "f9d78c34",
   "metadata": {},
   "outputs": [
    {
     "name": "stdout",
     "output_type": "stream",
     "text": [
      "            Ineuron  \n",
      "        Ineuron  Ineuron  \n",
      "    Ineuron  Ineuron  Ineuron  \n",
      "Ineuron  Ineuron  Ineuron  Ineuron  \n"
     ]
    }
   ],
   "source": [
    "#Q2\n",
    "n=4\n",
    "k=n\n",
    "for i in range(n):\n",
    "    k=k-1\n",
    "    print('    '*k,end='')\n",
    "    for j in range(i+1):\n",
    "        print('Ineuron  ',end='')\n",
    "    print()"
   ]
  },
  {
   "cell_type": "code",
   "execution_count": null,
   "id": "2833108a",
   "metadata": {},
   "outputs": [],
   "source": []
  }
 ],
 "metadata": {
  "kernelspec": {
   "display_name": "Python 3",
   "language": "python",
   "name": "python3"
  },
  "language_info": {
   "codemirror_mode": {
    "name": "ipython",
    "version": 3
   },
   "file_extension": ".py",
   "mimetype": "text/x-python",
   "name": "python",
   "nbconvert_exporter": "python",
   "pygments_lexer": "ipython3",
   "version": "3.8.8"
  }
 },
 "nbformat": 4,
 "nbformat_minor": 5
}
