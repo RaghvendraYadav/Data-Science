{
 "cells": [
  {
   "cell_type": "code",
   "execution_count": 1,
   "id": "2e3e341c",
   "metadata": {},
   "outputs": [
    {
     "name": "stdout",
     "output_type": "stream",
     "text": [
      "30\n"
     ]
    }
   ],
   "source": [
    "a=10\n",
    "b=20\n",
    "c=a+b\n",
    "print(c)"
   ]
  },
  {
   "cell_type": "code",
   "execution_count": 3,
   "id": "6f1dec54",
   "metadata": {},
   "outputs": [
    {
     "ename": "SyntaxError",
     "evalue": "unexpected EOF while parsing (<ipython-input-3-c821eee0c59c>, line 4)",
     "output_type": "error",
     "traceback": [
      "\u001b[1;36m  File \u001b[1;32m\"<ipython-input-3-c821eee0c59c>\"\u001b[1;36m, line \u001b[1;32m4\u001b[0m\n\u001b[1;33m    print(c#Compiler time error bcoz it is syntax error Source code is going to compiler and compiler will see the syntax is wrong so Compile time error\u001b[0m\n\u001b[1;37m                                                                                                                                                        ^\u001b[0m\n\u001b[1;31mSyntaxError\u001b[0m\u001b[1;31m:\u001b[0m unexpected EOF while parsing\n"
     ]
    }
   ],
   "source": [
    "a=20\n",
    "b=20\n",
    "c=a+b\n",
    "print(c   #Compiler time error bcoz it is syntax error Source code is going to compiler and compiler will see the syntax is wrong so Compile time error"
   ]
  },
  {
   "cell_type": "code",
   "execution_count": 5,
   "id": "d0b5c11e",
   "metadata": {},
   "outputs": [
    {
     "ename": "TypeError",
     "evalue": "unsupported operand type(s) for +: 'int' and 'str'",
     "output_type": "error",
     "traceback": [
      "\u001b[1;31m---------------------------------------------------------------------------\u001b[0m",
      "\u001b[1;31mTypeError\u001b[0m                                 Traceback (most recent call last)",
      "\u001b[1;32m<ipython-input-5-605b36d4b47a>\u001b[0m in \u001b[0;36m<module>\u001b[1;34m\u001b[0m\n\u001b[0;32m      1\u001b[0m \u001b[0ma\u001b[0m\u001b[1;33m=\u001b[0m\u001b[1;36m10\u001b[0m\u001b[1;33m\u001b[0m\u001b[1;33m\u001b[0m\u001b[0m\n\u001b[0;32m      2\u001b[0m \u001b[0mb\u001b[0m\u001b[1;33m=\u001b[0m\u001b[1;34m's'\u001b[0m\u001b[1;33m\u001b[0m\u001b[1;33m\u001b[0m\u001b[0m\n\u001b[1;32m----> 3\u001b[1;33m \u001b[0mc\u001b[0m\u001b[1;33m=\u001b[0m\u001b[0ma\u001b[0m\u001b[1;33m+\u001b[0m\u001b[0mb\u001b[0m\u001b[1;33m\u001b[0m\u001b[1;33m\u001b[0m\u001b[0m\n\u001b[0m\u001b[0;32m      4\u001b[0m \u001b[0mprint\u001b[0m\u001b[1;33m(\u001b[0m\u001b[0mc\u001b[0m\u001b[1;33m)\u001b[0m\u001b[1;31m# Type error means Sourcecode will to compiler and no syntax error now it wil be byte code(machine code) to inpretor it will check and do calcultion and give us runtime error\u001b[0m\u001b[1;33m\u001b[0m\u001b[1;33m\u001b[0m\u001b[0m\n",
      "\u001b[1;31mTypeError\u001b[0m: unsupported operand type(s) for +: 'int' and 'str'"
     ]
    }
   ],
   "source": [
    "a=10\n",
    "b='s'\n",
    "c=a+b\n",
    "print(c)# Type error means Sourcecode will to compiler and no syntax error now it wil be byte code(machine code) to inpretor it will check and do calcultion and give us runtime error"
   ]
  },
  {
   "cell_type": "code",
   "execution_count": 6,
   "id": "95865a36",
   "metadata": {},
   "outputs": [
    {
     "name": "stdout",
     "output_type": "stream",
     "text": [
      "Enter the First Number10\n",
      "Enter the Second Number12\n",
      "0.8333333333333334\n"
     ]
    }
   ],
   "source": [
    "a=int(input('Enter the First Number'))\n",
    "b=int(input('Enter the Second Number'))\n",
    "c=a/b\n",
    "print(c)"
   ]
  },
  {
   "cell_type": "code",
   "execution_count": 7,
   "id": "3cfb5a20",
   "metadata": {},
   "outputs": [
    {
     "name": "stdout",
     "output_type": "stream",
     "text": [
      "Enter the First Number11\n",
      "Enter the Second Number0\n"
     ]
    },
    {
     "ename": "ZeroDivisionError",
     "evalue": "division by zero",
     "output_type": "error",
     "traceback": [
      "\u001b[1;31m---------------------------------------------------------------------------\u001b[0m",
      "\u001b[1;31mZeroDivisionError\u001b[0m                         Traceback (most recent call last)",
      "\u001b[1;32m<ipython-input-7-28092585a71c>\u001b[0m in \u001b[0;36m<module>\u001b[1;34m\u001b[0m\n\u001b[0;32m      1\u001b[0m \u001b[0ma\u001b[0m\u001b[1;33m=\u001b[0m\u001b[0mint\u001b[0m\u001b[1;33m(\u001b[0m\u001b[0minput\u001b[0m\u001b[1;33m(\u001b[0m\u001b[1;34m'Enter the First Number'\u001b[0m\u001b[1;33m)\u001b[0m\u001b[1;33m)\u001b[0m\u001b[1;33m\u001b[0m\u001b[1;33m\u001b[0m\u001b[0m\n\u001b[0;32m      2\u001b[0m \u001b[0mb\u001b[0m\u001b[1;33m=\u001b[0m\u001b[0mint\u001b[0m\u001b[1;33m(\u001b[0m\u001b[0minput\u001b[0m\u001b[1;33m(\u001b[0m\u001b[1;34m'Enter the Second Number'\u001b[0m\u001b[1;33m)\u001b[0m\u001b[1;33m)\u001b[0m\u001b[1;33m\u001b[0m\u001b[1;33m\u001b[0m\u001b[0m\n\u001b[1;32m----> 3\u001b[1;33m \u001b[0mc\u001b[0m\u001b[1;33m=\u001b[0m\u001b[0ma\u001b[0m\u001b[1;33m/\u001b[0m\u001b[0mb\u001b[0m\u001b[1;33m\u001b[0m\u001b[1;33m\u001b[0m\u001b[0m\n\u001b[0m\u001b[0;32m      4\u001b[0m \u001b[0mprint\u001b[0m\u001b[1;33m(\u001b[0m\u001b[0mc\u001b[0m\u001b[1;33m)\u001b[0m\u001b[1;33m\u001b[0m\u001b[1;33m\u001b[0m\u001b[0m\n",
      "\u001b[1;31mZeroDivisionError\u001b[0m: division by zero"
     ]
    }
   ],
   "source": [
    "a=int(input('Enter the First Number'))\n",
    "b=int(input('Enter the Second Number'))\n",
    "c=a/b #if b=0 then it is Zero Divison Error it is runtime Error here exception handling is required \n",
    "print(c)"
   ]
  },
  {
   "cell_type": "code",
   "execution_count": 8,
   "id": "d2893627",
   "metadata": {},
   "outputs": [
    {
     "name": "stdout",
     "output_type": "stream",
     "text": [
      "Enter the First Number11\n",
      "Enter the Second Number22\n",
      "0.5\n",
      "242\n"
     ]
    }
   ],
   "source": [
    "a=int(input('Enter the First Number'))\n",
    "b=int(input('Enter the Second Number'))\n",
    "c=a/b\n",
    "print(c)\n",
    "d=a*b\n",
    "print(d)"
   ]
  },
  {
   "cell_type": "code",
   "execution_count": 9,
   "id": "7ef9dcfd",
   "metadata": {},
   "outputs": [
    {
     "name": "stdout",
     "output_type": "stream",
     "text": [
      "Enter the First Number11\n",
      "Enter the Second Number0\n"
     ]
    },
    {
     "ename": "ZeroDivisionError",
     "evalue": "division by zero",
     "output_type": "error",
     "traceback": [
      "\u001b[1;31m---------------------------------------------------------------------------\u001b[0m",
      "\u001b[1;31mZeroDivisionError\u001b[0m                         Traceback (most recent call last)",
      "\u001b[1;32m<ipython-input-9-8a5dd26f7b86>\u001b[0m in \u001b[0;36m<module>\u001b[1;34m\u001b[0m\n\u001b[0;32m      1\u001b[0m \u001b[0ma\u001b[0m\u001b[1;33m=\u001b[0m\u001b[0mint\u001b[0m\u001b[1;33m(\u001b[0m\u001b[0minput\u001b[0m\u001b[1;33m(\u001b[0m\u001b[1;34m'Enter the First Number'\u001b[0m\u001b[1;33m)\u001b[0m\u001b[1;33m)\u001b[0m\u001b[1;33m\u001b[0m\u001b[1;33m\u001b[0m\u001b[0m\n\u001b[0;32m      2\u001b[0m \u001b[0mb\u001b[0m\u001b[1;33m=\u001b[0m\u001b[0mint\u001b[0m\u001b[1;33m(\u001b[0m\u001b[0minput\u001b[0m\u001b[1;33m(\u001b[0m\u001b[1;34m'Enter the Second Number'\u001b[0m\u001b[1;33m)\u001b[0m\u001b[1;33m)\u001b[0m\u001b[1;33m\u001b[0m\u001b[1;33m\u001b[0m\u001b[0m\n\u001b[1;32m----> 3\u001b[1;33m \u001b[0mc\u001b[0m\u001b[1;33m=\u001b[0m\u001b[0ma\u001b[0m\u001b[1;33m/\u001b[0m\u001b[0mb\u001b[0m\u001b[1;33m\u001b[0m\u001b[1;33m\u001b[0m\u001b[0m\n\u001b[0m\u001b[0;32m      4\u001b[0m \u001b[0mprint\u001b[0m\u001b[1;33m(\u001b[0m\u001b[0mc\u001b[0m\u001b[1;33m)\u001b[0m\u001b[1;33m\u001b[0m\u001b[1;33m\u001b[0m\u001b[0m\n\u001b[0;32m      5\u001b[0m \u001b[0md\u001b[0m\u001b[1;33m=\u001b[0m\u001b[0ma\u001b[0m\u001b[1;33m*\u001b[0m\u001b[0mb\u001b[0m\u001b[1;33m\u001b[0m\u001b[1;33m\u001b[0m\u001b[0m\n",
      "\u001b[1;31mZeroDivisionError\u001b[0m: division by zero"
     ]
    }
   ],
   "source": [
    "a=int(input('Enter the First Number'))\n",
    "b=int(input('Enter the Second Number'))\n",
    "c=a/b\n",
    "print(c)\n",
    "d=a*b\n",
    "print(d)"
   ]
  },
  {
   "cell_type": "code",
   "execution_count": 10,
   "id": "70c5cb37",
   "metadata": {},
   "outputs": [
    {
     "ename": "SyntaxError",
     "evalue": "invalid syntax (<ipython-input-10-a86a1622dbec>, line 2)",
     "output_type": "error",
     "traceback": [
      "\u001b[1;36m  File \u001b[1;32m\"<ipython-input-10-a86a1622dbec>\"\u001b[1;36m, line \u001b[1;32m2\u001b[0m\n\u001b[1;33m    if nnot My further code execution wil stop\u001b[0m\n\u001b[1;37m            ^\u001b[0m\n\u001b[1;31mSyntaxError\u001b[0m\u001b[1;31m:\u001b[0m invalid syntax\n"
     ]
    }
   ],
   "source": [
    "why Eception Handling?\n",
    "if nnot My further code execution wil stop \n",
    "This is not user friendly"
   ]
  },
  {
   "cell_type": "code",
   "execution_count": 11,
   "id": "7d319cac",
   "metadata": {},
   "outputs": [
    {
     "ename": "SyntaxError",
     "evalue": "invalid syntax (<ipython-input-11-4e8f11c95e72>, line 1)",
     "output_type": "error",
     "traceback": [
      "\u001b[1;36m  File \u001b[1;32m\"<ipython-input-11-4e8f11c95e72>\"\u001b[1;36m, line \u001b[1;32m1\u001b[0m\n\u001b[1;33m    try\u001b[0m\n\u001b[1;37m       ^\u001b[0m\n\u001b[1;31mSyntaxError\u001b[0m\u001b[1;31m:\u001b[0m invalid syntax\n"
     ]
    }
   ],
   "source": [
    "try\n",
    "except\n",
    "else\n",
    "raise\n",
    "finally"
   ]
  },
  {
   "cell_type": "code",
   "execution_count": 13,
   "id": "fdaae03e",
   "metadata": {},
   "outputs": [
    {
     "name": "stdout",
     "output_type": "stream",
     "text": [
      "Enter the First Number11\n",
      "Enter the Second Number0\n",
      "b should have not have Zero value division by zero\n"
     ]
    }
   ],
   "source": [
    "a=int(input('Enter the First Number'))\n",
    "b=int(input('Enter the Second Number'))\n",
    "try:\n",
    "    c=a/b#here we have chance for exception so we will write this inside Try\n",
    "    print(c)\n",
    "except Exception as e:\n",
    "    print('b should have not have Zero value',e)"
   ]
  },
  {
   "cell_type": "code",
   "execution_count": 18,
   "id": "eb3b8ca9",
   "metadata": {},
   "outputs": [
    {
     "data": {
      "text/plain": [
       "['Hi', 'I', 'am', 'moving', 'to', 'mumbai', 'to', '', 'take', 'test']"
      ]
     },
     "execution_count": 18,
     "metadata": {},
     "output_type": "execute_result"
    }
   ],
   "source": [
    "c='Hi I am moving tomumbai to take test'\n",
    "c.replace('to','to ').split(' ')\n"
   ]
  },
  {
   "cell_type": "code",
   "execution_count": 19,
   "id": "8546f498",
   "metadata": {},
   "outputs": [
    {
     "name": "stdout",
     "output_type": "stream",
     "text": [
      "Enter the First Number10\n",
      "Enter the Second Number0\n",
      "b should have not have Zero value\n"
     ]
    }
   ],
   "source": [
    "a=int(input('Enter the First Number'))\n",
    "b=int(input('Enter the Second Number'))\n",
    "try:\n",
    "    c=a/b#here we have chance for exception so we will write this inside Try\n",
    "    print(c)\n",
    "except ZeroDivisionError:\n",
    "    print('b should have not have Zero value')"
   ]
  },
  {
   "cell_type": "code",
   "execution_count": 1,
   "id": "5cbd90c4",
   "metadata": {},
   "outputs": [
    {
     "name": "stdout",
     "output_type": "stream",
     "text": [
      "Enter the First Number'12'\n",
      "Integer vale is only Allowed\n"
     ]
    }
   ],
   "source": [
    "try:\n",
    "    a=int(input('Enter the First Number'))\n",
    "    b=int(input('Enter the Second Number'))\n",
    "    c=a/b#here we have chance for exception so we will write this inside Try\n",
    "    print(c)\n",
    "except ValueError:\n",
    "    print('Integer vale is only Allowed')\n",
    "except ZeroDivisionError:\n",
    "    print('b should have not have Zero value')"
   ]
  },
  {
   "cell_type": "markdown",
   "id": "ec3f5923",
   "metadata": {},
   "source": [
    "Write a program to ask the user to input two integers and print their division. Make sure program behaves the following:\n",
    "\n",
    "1) If the user enters a non integer value then ask him to enter only integers\n",
    "\n",
    "2) If denominator is 0, then ask him to input non-zero denominator\n",
    "\n",
    "Repeat the process until the correct input is given. Only if the inputs are correct, then display their division and terminate the code"
   ]
  },
  {
   "cell_type": "code",
   "execution_count": 4,
   "id": "75a2e4d5",
   "metadata": {},
   "outputs": [
    {
     "name": "stdout",
     "output_type": "stream",
     "text": [
      "Enter the First Number1\n",
      "Enter the Second Number0\n",
      "b should have not have Zero value\n",
      "Enter the First Number1\n",
      "Enter the Second Number'a\n",
      "Integer vale is only Allowed\n",
      "Enter the First Number1\n",
      "Enter the Second Number1\n",
      "1.0\n"
     ]
    }
   ],
   "source": [
    "while True:\n",
    "    try:\n",
    "    a=int(input('Enter the First Number'))\n",
    "    b=int(input('Enter the Second Number'))\n",
    "    c=a/b#here we have chance for exception so we will write this inside Try\n",
    "    print(c)\n",
    "except ValueError:\n",
    "    print('Integer vale is only Allowed')\n",
    "except ZeroDivisionError:\n",
    "    print('b should have not have Zero value')"
   ]
  },
  {
   "cell_type": "code",
   "execution_count": 7,
   "id": "8bc34223",
   "metadata": {},
   "outputs": [
    {
     "name": "stdout",
     "output_type": "stream",
     "text": [
      "Enter the First Number12\n",
      "Enter the Second Number12\n",
      "1.0\n"
     ]
    }
   ],
   "source": [
    "try:\n",
    "    a=int(input('Enter the First Number'))\n",
    "    b=int(input('Enter the Second Number'))\n",
    "    c=a/b#here we have chance for exception so we will write this inside Try\n",
    "    print(c)\n",
    "except (ValueError,ZeroDivisionError):wwww\n",
    "    print('Integer value is only Allowed or Zero should not be numerator ')\n"
   ]
  },
  {
   "cell_type": "code",
   "execution_count": null,
   "id": "d579db16",
   "metadata": {},
   "outputs": [],
   "source": []
  }
 ],
 "metadata": {
  "kernelspec": {
   "display_name": "Python 3",
   "language": "python",
   "name": "python3"
  },
  "language_info": {
   "codemirror_mode": {
    "name": "ipython",
    "version": 3
   },
   "file_extension": ".py",
   "mimetype": "text/x-python",
   "name": "python",
   "nbconvert_exporter": "python",
   "pygments_lexer": "ipython3",
   "version": "3.8.8"
  }
 },
 "nbformat": 4,
 "nbformat_minor": 5
}
