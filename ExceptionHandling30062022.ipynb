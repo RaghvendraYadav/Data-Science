{
 "cells": [
  {
   "cell_type": "code",
   "execution_count": 1,
   "id": "e40482a2",
   "metadata": {},
   "outputs": [
    {
     "ename": "SyntaxError",
     "evalue": "unexpected EOF while parsing (<ipython-input-1-cca66a29f117>, line 3)",
     "output_type": "error",
     "traceback": [
      "\u001b[1;36m  File \u001b[1;32m\"<ipython-input-1-cca66a29f117>\"\u001b[1;36m, line \u001b[1;32m3\u001b[0m\n\u001b[1;33m    a/10\u001b[0m\n\u001b[1;37m        ^\u001b[0m\n\u001b[1;31mSyntaxError\u001b[0m\u001b[1;31m:\u001b[0m unexpected EOF while parsing\n"
     ]
    }
   ],
   "source": [
    "try:\n",
    "    a=10\n",
    "    a/10"
   ]
  },
  {
   "cell_type": "code",
   "execution_count": 2,
   "id": "fefdf0c7",
   "metadata": {},
   "outputs": [],
   "source": [
    "try:\n",
    "    a=10\n",
    "    a/10\n",
    "except Exception as e:\n",
    "    print(e)"
   ]
  },
  {
   "cell_type": "code",
   "execution_count": 3,
   "id": "7f4aae23",
   "metadata": {},
   "outputs": [
    {
     "name": "stdout",
     "output_type": "stream",
     "text": [
      "division by zero\n"
     ]
    }
   ],
   "source": [
    "try:\n",
    "    a=10\n",
    "    a/0\n",
    "except Exception as e:\n",
    "    print(e)"
   ]
  },
  {
   "cell_type": "code",
   "execution_count": 4,
   "id": "c6f38ded",
   "metadata": {},
   "outputs": [
    {
     "name": "stdout",
     "output_type": "stream",
     "text": [
      "division by zero\n",
      "This will be final code after handling an exception\n"
     ]
    }
   ],
   "source": [
    "try:\n",
    "    a=10\n",
    "    a/0\n",
    "except Exception as e:\n",
    "    print(e)\n",
    "    print('This will be final code after handling an exception')"
   ]
  },
  {
   "cell_type": "code",
   "execution_count": 7,
   "id": "c9238665",
   "metadata": {},
   "outputs": [
    {
     "name": "stdout",
     "output_type": "stream",
     "text": [
      "1\n",
      "This will be final code after handling an exception\n"
     ]
    }
   ],
   "source": [
    "try:\n",
    "    a=10\n",
    "    print(int(a/10))\n",
    "except Exception as e:\n",
    "    print(e)\n",
    "finally:\n",
    "    print('This will be final code after handling an exception')"
   ]
  },
  {
   "cell_type": "code",
   "execution_count": 8,
   "id": "38660c7a",
   "metadata": {},
   "outputs": [
    {
     "name": "stdout",
     "output_type": "stream",
     "text": [
      "[Errno 2] No such file or directory: 'ragh.txt'\n"
     ]
    }
   ],
   "source": [
    "try:\n",
    "    f=open('ragh.txt','r')\n",
    "except Exception as e:\n",
    "    print(e)"
   ]
  },
  {
   "cell_type": "code",
   "execution_count": 9,
   "id": "ec198d01",
   "metadata": {},
   "outputs": [
    {
     "ename": "FileNotFoundError",
     "evalue": "[Errno 2] No such file or directory: 'Sudh.txt'",
     "output_type": "error",
     "traceback": [
      "\u001b[1;31m---------------------------------------------------------------------------\u001b[0m",
      "\u001b[1;31mFileNotFoundError\u001b[0m                         Traceback (most recent call last)",
      "\u001b[1;32m<ipython-input-9-44596bc10670>\u001b[0m in \u001b[0;36m<module>\u001b[1;34m\u001b[0m\n\u001b[1;32m----> 1\u001b[1;33m \u001b[0mf\u001b[0m\u001b[1;33m=\u001b[0m\u001b[0mopen\u001b[0m\u001b[1;33m(\u001b[0m\u001b[1;34m'Sudh.txt'\u001b[0m\u001b[1;33m,\u001b[0m\u001b[1;34m'r'\u001b[0m\u001b[1;33m)\u001b[0m\u001b[1;33m\u001b[0m\u001b[1;33m\u001b[0m\u001b[0m\n\u001b[0m\u001b[0;32m      2\u001b[0m \u001b[0mf\u001b[0m\u001b[1;33m.\u001b[0m\u001b[0mwrite\u001b[0m\u001b[1;33m(\u001b[0m\u001b[1;34m'This is my Sudh text File'\u001b[0m\u001b[1;33m)\u001b[0m\u001b[1;33m\u001b[0m\u001b[1;33m\u001b[0m\u001b[0m\n",
      "\u001b[1;31mFileNotFoundError\u001b[0m: [Errno 2] No such file or directory: 'Sudh.txt'"
     ]
    }
   ],
   "source": [
    "f=open('Sudh.txt','r')\n",
    "f.write('This is my Sudh text File')"
   ]
  },
  {
   "cell_type": "code",
   "execution_count": 11,
   "id": "a64ba0e8",
   "metadata": {},
   "outputs": [
    {
     "name": "stdout",
     "output_type": "stream",
     "text": [
      "[Errno 2] No such file or directory: 'Sudh.txt'\n",
      "This is not my suspicious code\n"
     ]
    }
   ],
   "source": [
    "try:\n",
    "    f=open('Sudh.txt','r')\n",
    "    f.write('This is my Sudh text File')\n",
    "except Exception as e:\n",
    "    print(e)\n",
    "    print('This is not my suspicious code')"
   ]
  },
  {
   "cell_type": "code",
   "execution_count": 12,
   "id": "59d5279c",
   "metadata": {},
   "outputs": [
    {
     "name": "stdout",
     "output_type": "stream",
     "text": [
      "[Errno 2] No such file or directory: 'Sudh.txt'\n",
      "This is not my suspicious code\n",
      "This block will execute everytime\n"
     ]
    }
   ],
   "source": [
    "try:\n",
    "    f=open('Sudh.txt','r')\n",
    "    f.write('This is my Sudh text File')\n",
    "except Exception as e:\n",
    "    print(e)\n",
    "    print('This is not my suspicious code')\n",
    "finally:\n",
    "    print('This block will execute everytime')"
   ]
  },
  {
   "cell_type": "code",
   "execution_count": 14,
   "id": "6263c80b",
   "metadata": {},
   "outputs": [],
   "source": [
    "def IntegerFunc():\n",
    "    try:\n",
    "        val=int(input('Please enter an integer Number'))\n",
    "    except ValueError:\n",
    "        print('Please enter the value Integer')\n",
    "        try:\n",
    "            val=int(input('Please enter the Interger'))\n",
    "        except :\n",
    "            print('we are not able to handle your mistakr')\n",
    "        finally:\n",
    "            print('It will execute finally')\n",
    "        \n",
    "        \n",
    "    "
   ]
  },
  {
   "cell_type": "code",
   "execution_count": 15,
   "id": "2410d88e",
   "metadata": {},
   "outputs": [
    {
     "name": "stdout",
     "output_type": "stream",
     "text": [
      "Please enter an integer Numberrig\n",
      "Please enter the value Integer\n",
      "Please enter the Intergerdk\n",
      "we are able to handle your mistakr\n",
      "It will execute finally\n"
     ]
    }
   ],
   "source": [
    "IntegerFunc()"
   ]
  },
  {
   "cell_type": "code",
   "execution_count": 19,
   "id": "dba76c8b",
   "metadata": {},
   "outputs": [],
   "source": [
    "def AskintergerValueFunc():\n",
    "    while True:\n",
    "        try:\n",
    "            val=int(input('Please try to input Integer:-\\n'))\n",
    "            print('The value is {}'.format(val))\n",
    "            break\n",
    "        except Exception as e:\n",
    "            print('Looks like you have not enter an integer')\n",
    "            continue"
   ]
  },
  {
   "cell_type": "code",
   "execution_count": 20,
   "id": "d08371b1",
   "metadata": {},
   "outputs": [
    {
     "name": "stdout",
     "output_type": "stream",
     "text": [
      "Please try to input Integer:-\n",
      "fb\n",
      "Looks like you have not enter an integer\n",
      "Please try to input Integer:-\n",
      "fb\n",
      "Looks like you have not enter an integer\n",
      "Please try to input Integer:-\n",
      "dge\n",
      "Looks like you have not enter an integer\n",
      "Please try to input Integer:-\n",
      "12324\n",
      "The value is 12324\n"
     ]
    }
   ],
   "source": [
    "AskintergerValueFunc()"
   ]
  },
  {
   "cell_type": "code",
   "execution_count": null,
   "id": "53337bdd",
   "metadata": {},
   "outputs": [],
   "source": []
  }
 ],
 "metadata": {
  "kernelspec": {
   "display_name": "Python 3",
   "language": "python",
   "name": "python3"
  },
  "language_info": {
   "codemirror_mode": {
    "name": "ipython",
    "version": 3
   },
   "file_extension": ".py",
   "mimetype": "text/x-python",
   "name": "python",
   "nbconvert_exporter": "python",
   "pygments_lexer": "ipython3",
   "version": "3.8.8"
  }
 },
 "nbformat": 4,
 "nbformat_minor": 5
}
