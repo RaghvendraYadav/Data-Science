{
 "cells": [
  {
   "cell_type": "code",
   "execution_count": 4,
   "id": "8028e6e4",
   "metadata": {},
   "outputs": [],
   "source": [
    "f=open(\"Test.txt\",'r')"
   ]
  },
  {
   "cell_type": "code",
   "execution_count": 2,
   "id": "d0c0c285",
   "metadata": {},
   "outputs": [
    {
     "name": "stdout",
     "output_type": "stream",
     "text": [
      "<_io.TextIOWrapper name='Test.txt' mode='r' encoding='cp1252'>\n"
     ]
    }
   ],
   "source": [
    "print(f)"
   ]
  },
  {
   "cell_type": "code",
   "execution_count": 3,
   "id": "10d24c71",
   "metadata": {},
   "outputs": [
    {
     "name": "stdout",
     "output_type": "stream",
     "text": [
      " Volume in drive C has no label."
     ]
    },
    {
     "name": "stderr",
     "output_type": "stream",
     "text": [
      "File Not Found\n"
     ]
    },
    {
     "name": "stdout",
     "output_type": "stream",
     "text": [
      "\n",
      " Volume Serial Number is 7EAB-9F48\n",
      "\n",
      " Directory of C:\\Users\\dell\\FSDS\n",
      "\n"
     ]
    }
   ],
   "source": [
    "ls()"
   ]
  },
  {
   "cell_type": "code",
   "execution_count": 5,
   "id": "8fe2dbde",
   "metadata": {},
   "outputs": [
    {
     "name": "stdout",
     "output_type": "stream",
     "text": [
      " Volume in drive C has no label.\n",
      " Volume Serial Number is 7EAB-9F48\n",
      "\n",
      " Directory of C:\\Users\\dell\\FSDS\n",
      "\n",
      "18-06-2022  16:38    <DIR>          .\n",
      "18-06-2022  16:38    <DIR>          ..\n",
      "18-06-2022  16:34    <DIR>          .ipynb_checkpoints\n",
      "28-05-2022  14:29            24,078 ConditionalStatemtn IF Else 22052022.ipynb\n",
      "14-05-2022  17:09             5,294 Day1Variables.ipynb\n",
      "15-05-2022  17:33            27,400 Day2String.ipynb\n",
      "14-06-2022  12:14            14,869 ExceptionHandling13062022.ipynb\n",
      "18-06-2022  16:38             1,665 Filehandling18062022.ipynb\n",
      "28-05-2022  18:20            24,866 FORLOOPS28052022.ipynb\n",
      "05-06-2022  16:41            19,673 Functions06052022.ipynb\n",
      "18-06-2022  16:23            13,905 Functionscontinue18062022.ipynb\n",
      "21-05-2022  18:02            58,271 List  Tuple Dict 210522.ipynb\n",
      "18-06-2022  16:36                23 Test.txt\n",
      "02-06-2022  22:30         2,388,538 whileloops29052022.ipynb\n",
      "              11 File(s)      2,578,582 bytes\n",
      "               3 Dir(s)  142,193,549,312 bytes free\n"
     ]
    }
   ],
   "source": [
    "ls"
   ]
  },
  {
   "cell_type": "code",
   "execution_count": 7,
   "id": "9b1672cd",
   "metadata": {},
   "outputs": [
    {
     "data": {
      "text/plain": [
       "31"
      ]
     },
     "execution_count": 7,
     "metadata": {},
     "output_type": "execute_result"
    }
   ],
   "source": [
    "f=open(\"Test.txt\",'w')\n",
    "f.write('This is my first File Operation')"
   ]
  },
  {
   "cell_type": "code",
   "execution_count": 8,
   "id": "fd4bd2f7",
   "metadata": {},
   "outputs": [],
   "source": [
    "f.close()"
   ]
  },
  {
   "cell_type": "code",
   "execution_count": 9,
   "id": "4d655c70",
   "metadata": {},
   "outputs": [],
   "source": [
    "f1=open('test1..txt','w')"
   ]
  },
  {
   "cell_type": "code",
   "execution_count": 10,
   "id": "a9a2fc4b",
   "metadata": {},
   "outputs": [
    {
     "data": {
      "text/plain": [
       "58"
      ]
     },
     "execution_count": 10,
     "metadata": {},
     "output_type": "execute_result"
    }
   ],
   "source": [
    "f1.write('This is File Operation which i m doing in FSDS Bathc Class')"
   ]
  },
  {
   "cell_type": "code",
   "execution_count": 11,
   "id": "5f2e10e0",
   "metadata": {},
   "outputs": [],
   "source": [
    "f1.close()"
   ]
  },
  {
   "cell_type": "code",
   "execution_count": 12,
   "id": "51f94b26",
   "metadata": {},
   "outputs": [],
   "source": [
    "l=[1,2,3,4,5,646,34,4,343,554]"
   ]
  },
  {
   "cell_type": "code",
   "execution_count": 13,
   "id": "d348ca5f",
   "metadata": {},
   "outputs": [],
   "source": [
    "f2=open('Test2.txt','w')"
   ]
  },
  {
   "cell_type": "code",
   "execution_count": 14,
   "id": "fc8f3608",
   "metadata": {},
   "outputs": [
    {
     "ename": "TypeError",
     "evalue": "write() argument must be str, not list",
     "output_type": "error",
     "traceback": [
      "\u001b[1;31m---------------------------------------------------------------------------\u001b[0m",
      "\u001b[1;31mTypeError\u001b[0m                                 Traceback (most recent call last)",
      "\u001b[1;32m<ipython-input-14-d10122bbe497>\u001b[0m in \u001b[0;36m<module>\u001b[1;34m\u001b[0m\n\u001b[1;32m----> 1\u001b[1;33m \u001b[0mf2\u001b[0m\u001b[1;33m.\u001b[0m\u001b[0mwrite\u001b[0m\u001b[1;33m(\u001b[0m\u001b[0ml\u001b[0m\u001b[1;33m)\u001b[0m\u001b[1;33m\u001b[0m\u001b[1;33m\u001b[0m\u001b[0m\n\u001b[0m",
      "\u001b[1;31mTypeError\u001b[0m: write() argument must be str, not list"
     ]
    }
   ],
   "source": [
    "f2.write(l)"
   ]
  },
  {
   "cell_type": "code",
   "execution_count": 15,
   "id": "ce2e1b12",
   "metadata": {},
   "outputs": [],
   "source": [
    "# We need to onvert List into String\n",
    "l=str(l)"
   ]
  },
  {
   "cell_type": "code",
   "execution_count": 16,
   "id": "b8902613",
   "metadata": {},
   "outputs": [
    {
     "data": {
      "text/plain": [
       "37"
      ]
     },
     "execution_count": 16,
     "metadata": {},
     "output_type": "execute_result"
    }
   ],
   "source": [
    "f2.write(l)"
   ]
  },
  {
   "cell_type": "code",
   "execution_count": 17,
   "id": "3cdb7713",
   "metadata": {},
   "outputs": [],
   "source": [
    "f2.close()"
   ]
  },
  {
   "cell_type": "code",
   "execution_count": 24,
   "id": "47b875ee",
   "metadata": {},
   "outputs": [
    {
     "name": "stdout",
     "output_type": "stream",
     "text": [
      "Overwriting test5.txt\n"
     ]
    }
   ],
   "source": [
    "%%writefile test5.txt\n",
    "this is my python program to write File in difeerent form \n",
    "this is my python program to write File in difeerent form \n",
    "this is my python program to write File in difeerent form \n",
    "this is my python program to write File in difeerent form \n",
    "this is my python program to write File in difeerent form this is my python program to write File in difeerent form \n",
    "this is my python program to write File in difeerent form \n"
   ]
  },
  {
   "cell_type": "code",
   "execution_count": 25,
   "id": "dc4e8d80",
   "metadata": {},
   "outputs": [],
   "source": [
    "f=open('test5.txt')"
   ]
  },
  {
   "cell_type": "code",
   "execution_count": 26,
   "id": "741d1c3e",
   "metadata": {},
   "outputs": [
    {
     "data": {
      "text/plain": [
       "'this is my python program to write File in difeerent form \\nthis is my python program to write File in difeerent form \\nthis is my python program to write File in difeerent form \\nthis is my python program to write File in difeerent form \\nthis is my python program to write File in difeerent form this is my python program to write File in difeerent form \\nthis is my python program to write File in difeerent form \\n'"
      ]
     },
     "execution_count": 26,
     "metadata": {},
     "output_type": "execute_result"
    }
   ],
   "source": [
    "f.read()"
   ]
  },
  {
   "cell_type": "code",
   "execution_count": 29,
   "id": "b1744495",
   "metadata": {},
   "outputs": [
    {
     "data": {
      "text/plain": [
       "50"
      ]
     },
     "execution_count": 29,
     "metadata": {},
     "output_type": "execute_result"
    }
   ],
   "source": [
    "f.seek(50)"
   ]
  },
  {
   "cell_type": "code",
   "execution_count": 32,
   "id": "78a10617",
   "metadata": {},
   "outputs": [
    {
     "data": {
      "text/plain": [
       "''"
      ]
     },
     "execution_count": 32,
     "metadata": {},
     "output_type": "execute_result"
    }
   ],
   "source": [
    "f.read()"
   ]
  },
  {
   "cell_type": "code",
   "execution_count": 33,
   "id": "ba2fc163",
   "metadata": {},
   "outputs": [],
   "source": [
    "f.close()"
   ]
  },
  {
   "cell_type": "code",
   "execution_count": 35,
   "id": "65ca7761",
   "metadata": {},
   "outputs": [],
   "source": [
    "f1=open('test5.txt')"
   ]
  },
  {
   "cell_type": "code",
   "execution_count": 36,
   "id": "0ebfd53a",
   "metadata": {},
   "outputs": [
    {
     "data": {
      "text/plain": [
       "0"
      ]
     },
     "execution_count": 36,
     "metadata": {},
     "output_type": "execute_result"
    }
   ],
   "source": [
    "f1.tell()"
   ]
  },
  {
   "cell_type": "code",
   "execution_count": 37,
   "id": "c6a57ba6",
   "metadata": {},
   "outputs": [
    {
     "data": {
      "text/plain": [
       "'this is my python program to write File in difeerent form \\nthis is my python program to write File in difeerent form \\nthis is my python program to write File in difeerent form \\nthis is my python program to write File in difeerent form \\nthis is my python program to write File in difeerent form this is my python program to write File in difeerent form \\nthis is my python program to write File in difeerent form \\n'"
      ]
     },
     "execution_count": 37,
     "metadata": {},
     "output_type": "execute_result"
    }
   ],
   "source": [
    "f1.read()"
   ]
  },
  {
   "cell_type": "code",
   "execution_count": 38,
   "id": "8869fa51",
   "metadata": {},
   "outputs": [
    {
     "data": {
      "text/plain": [
       "418"
      ]
     },
     "execution_count": 38,
     "metadata": {},
     "output_type": "execute_result"
    }
   ],
   "source": [
    "f1.tell()"
   ]
  },
  {
   "cell_type": "code",
   "execution_count": 39,
   "id": "e41c7d47",
   "metadata": {},
   "outputs": [
    {
     "data": {
      "text/plain": [
       "5"
      ]
     },
     "execution_count": 39,
     "metadata": {},
     "output_type": "execute_result"
    }
   ],
   "source": [
    "f1.seek(5)"
   ]
  },
  {
   "cell_type": "code",
   "execution_count": 40,
   "id": "6f8d38e8",
   "metadata": {},
   "outputs": [
    {
     "data": {
      "text/plain": [
       "5"
      ]
     },
     "execution_count": 40,
     "metadata": {},
     "output_type": "execute_result"
    }
   ],
   "source": [
    "f1.tell()"
   ]
  },
  {
   "cell_type": "code",
   "execution_count": 41,
   "id": "d5e474b0",
   "metadata": {},
   "outputs": [
    {
     "data": {
      "text/plain": [
       "'is my python program to write File in difeerent form \\nthis is my python program to write File in difeerent form \\nthis is my python program to write File in difeerent form \\nthis is my python program to write File in difeerent form \\nthis is my python program to write File in difeerent form this is my python program to write File in difeerent form \\nthis is my python program to write File in difeerent form \\n'"
      ]
     },
     "execution_count": 41,
     "metadata": {},
     "output_type": "execute_result"
    }
   ],
   "source": [
    "f1.read()"
   ]
  },
  {
   "cell_type": "code",
   "execution_count": 42,
   "id": "b10f96c9",
   "metadata": {},
   "outputs": [
    {
     "data": {
      "text/plain": [
       "418"
      ]
     },
     "execution_count": 42,
     "metadata": {},
     "output_type": "execute_result"
    }
   ],
   "source": [
    "f1.tell()"
   ]
  },
  {
   "cell_type": "code",
   "execution_count": 43,
   "id": "0fa17235",
   "metadata": {},
   "outputs": [
    {
     "data": {
      "text/plain": [
       "''"
      ]
     },
     "execution_count": 43,
     "metadata": {},
     "output_type": "execute_result"
    }
   ],
   "source": [
    "f1.read(15)"
   ]
  },
  {
   "cell_type": "code",
   "execution_count": 44,
   "id": "1476d06c",
   "metadata": {},
   "outputs": [
    {
     "data": {
      "text/plain": [
       "5"
      ]
     },
     "execution_count": 44,
     "metadata": {},
     "output_type": "execute_result"
    }
   ],
   "source": [
    "f1.seek(5)"
   ]
  },
  {
   "cell_type": "code",
   "execution_count": 45,
   "id": "59e8551d",
   "metadata": {},
   "outputs": [
    {
     "data": {
      "text/plain": [
       "'is my python pr'"
      ]
     },
     "execution_count": 45,
     "metadata": {},
     "output_type": "execute_result"
    }
   ],
   "source": [
    "f1.read(15)"
   ]
  },
  {
   "cell_type": "code",
   "execution_count": 46,
   "id": "d6abeccc",
   "metadata": {},
   "outputs": [
    {
     "data": {
      "text/plain": [
       "'ogram to write File in difeerent form \\n'"
      ]
     },
     "execution_count": 46,
     "metadata": {},
     "output_type": "execute_result"
    }
   ],
   "source": [
    "f1.readline()"
   ]
  },
  {
   "cell_type": "code",
   "execution_count": 47,
   "id": "a13a0a14",
   "metadata": {},
   "outputs": [
    {
     "data": {
      "text/plain": [
       "['this is my python program to write File in difeerent form \\n',\n",
       " 'this is my python program to write File in difeerent form \\n',\n",
       " 'this is my python program to write File in difeerent form \\n',\n",
       " 'this is my python program to write File in difeerent form this is my python program to write File in difeerent form \\n',\n",
       " 'this is my python program to write File in difeerent form \\n']"
      ]
     },
     "execution_count": 47,
     "metadata": {},
     "output_type": "execute_result"
    }
   ],
   "source": [
    "f1.readlines()"
   ]
  },
  {
   "cell_type": "code",
   "execution_count": 48,
   "id": "9dc8fc92",
   "metadata": {},
   "outputs": [],
   "source": [
    "f1.close()"
   ]
  },
  {
   "cell_type": "code",
   "execution_count": 51,
   "id": "b32ce8c6",
   "metadata": {},
   "outputs": [
    {
     "data": {
      "text/plain": [
       "34"
      ]
     },
     "execution_count": 51,
     "metadata": {},
     "output_type": "execute_result"
    }
   ],
   "source": [
    "f1=open('test5.txt','w')\n",
    "f1.write('hfekb bnKNK FEKHH HQEBFBVBQBKBBKWF')"
   ]
  },
  {
   "cell_type": "code",
   "execution_count": 53,
   "id": "e9621bd5",
   "metadata": {},
   "outputs": [],
   "source": [
    "f1.close()"
   ]
  },
  {
   "cell_type": "code",
   "execution_count": 54,
   "id": "4af7071b",
   "metadata": {},
   "outputs": [],
   "source": [
    "f=open('test5.txt','a')"
   ]
  },
  {
   "cell_type": "code",
   "execution_count": 55,
   "id": "3e2a3be6",
   "metadata": {},
   "outputs": [
    {
     "data": {
      "text/plain": [
       "38"
      ]
     },
     "execution_count": 55,
     "metadata": {},
     "output_type": "execute_result"
    }
   ],
   "source": [
    "f.write(' fhihi hiic heihi ihdihvvih hfhfieihvh')"
   ]
  },
  {
   "cell_type": "code",
   "execution_count": 56,
   "id": "d9092d05",
   "metadata": {},
   "outputs": [],
   "source": [
    "f.close()"
   ]
  },
  {
   "cell_type": "code",
   "execution_count": 57,
   "id": "9ac5a313",
   "metadata": {},
   "outputs": [],
   "source": [
    "# Map Reduce And Filter Function"
   ]
  },
  {
   "cell_type": "code",
   "execution_count": 60,
   "id": "e838f6e9",
   "metadata": {},
   "outputs": [],
   "source": [
    "l=[2,3,4,5,6,43]"
   ]
  },
  {
   "cell_type": "code",
   "execution_count": 61,
   "id": "54a95a2e",
   "metadata": {},
   "outputs": [],
   "source": [
    "l1=[i*i for i in l]"
   ]
  },
  {
   "cell_type": "code",
   "execution_count": 62,
   "id": "98fd1049",
   "metadata": {},
   "outputs": [
    {
     "data": {
      "text/plain": [
       "[4, 9, 16, 25, 36, 1849]"
      ]
     },
     "execution_count": 62,
     "metadata": {},
     "output_type": "execute_result"
    }
   ],
   "source": [
    "l1"
   ]
  },
  {
   "cell_type": "code",
   "execution_count": 63,
   "id": "1823bb2a",
   "metadata": {},
   "outputs": [],
   "source": [
    "def sq(n):\n",
    "    return n*n"
   ]
  },
  {
   "cell_type": "code",
   "execution_count": 65,
   "id": "0eb01013",
   "metadata": {},
   "outputs": [
    {
     "data": {
      "text/plain": [
       "[16, 81, 256, 625, 1296, 3418801]"
      ]
     },
     "execution_count": 65,
     "metadata": {},
     "output_type": "execute_result"
    }
   ],
   "source": [
    "list(map(sq,l1))"
   ]
  },
  {
   "cell_type": "code",
   "execution_count": 67,
   "id": "090ee99e",
   "metadata": {},
   "outputs": [
    {
     "data": {
      "text/plain": [
       "[4, 9, 16, 25, 36, 1849]"
      ]
     },
     "execution_count": 67,
     "metadata": {},
     "output_type": "execute_result"
    }
   ],
   "source": [
    "list(map(lambda x:x*x,l))"
   ]
  },
  {
   "cell_type": "code",
   "execution_count": 69,
   "id": "6c5ececd",
   "metadata": {},
   "outputs": [
    {
     "data": {
      "text/plain": [
       "['2', '3', '4', '5', '6', '43']"
      ]
     },
     "execution_count": 69,
     "metadata": {},
     "output_type": "execute_result"
    }
   ],
   "source": [
    "list(map(lambda x:str(x),l))"
   ]
  },
  {
   "cell_type": "code",
   "execution_count": 70,
   "id": "0db7ef3d",
   "metadata": {},
   "outputs": [],
   "source": [
    "from functools import reduce"
   ]
  },
  {
   "cell_type": "code",
   "execution_count": 71,
   "id": "f0aaa78d",
   "metadata": {},
   "outputs": [],
   "source": [
    "l=[3,4,5,6,7,8,7]"
   ]
  },
  {
   "cell_type": "code",
   "execution_count": 72,
   "id": "cb3f475f",
   "metadata": {},
   "outputs": [
    {
     "data": {
      "text/plain": [
       "40"
      ]
     },
     "execution_count": 72,
     "metadata": {},
     "output_type": "execute_result"
    }
   ],
   "source": [
    "sum(l)"
   ]
  },
  {
   "cell_type": "code",
   "execution_count": 73,
   "id": "c51ce3d8",
   "metadata": {},
   "outputs": [
    {
     "data": {
      "text/plain": [
       "40"
      ]
     },
     "execution_count": 73,
     "metadata": {},
     "output_type": "execute_result"
    }
   ],
   "source": [
    "reduce(lambda a,b:a+b,l)"
   ]
  },
  {
   "cell_type": "code",
   "execution_count": 74,
   "id": "7af4bb78",
   "metadata": {},
   "outputs": [
    {
     "data": {
      "text/plain": [
       "141120"
      ]
     },
     "execution_count": 74,
     "metadata": {},
     "output_type": "execute_result"
    }
   ],
   "source": [
    "reduce(lambda a,b:a*b,l)"
   ]
  },
  {
   "cell_type": "code",
   "execution_count": 75,
   "id": "8afda194",
   "metadata": {},
   "outputs": [
    {
     "ename": "TypeError",
     "evalue": "<lambda>() missing 1 required positional argument: 'c'",
     "output_type": "error",
     "traceback": [
      "\u001b[1;31m---------------------------------------------------------------------------\u001b[0m",
      "\u001b[1;31mTypeError\u001b[0m                                 Traceback (most recent call last)",
      "\u001b[1;32m<ipython-input-75-8f8c8ab60fb7>\u001b[0m in \u001b[0;36m<module>\u001b[1;34m\u001b[0m\n\u001b[1;32m----> 1\u001b[1;33m \u001b[0mreduce\u001b[0m\u001b[1;33m(\u001b[0m\u001b[1;32mlambda\u001b[0m \u001b[0ma\u001b[0m\u001b[1;33m,\u001b[0m\u001b[0mb\u001b[0m\u001b[1;33m,\u001b[0m\u001b[0mc\u001b[0m\u001b[1;33m:\u001b[0m\u001b[0ma\u001b[0m\u001b[1;33m*\u001b[0m\u001b[0mb\u001b[0m\u001b[1;33m*\u001b[0m\u001b[0mc\u001b[0m\u001b[1;33m,\u001b[0m\u001b[0ml\u001b[0m\u001b[1;33m)\u001b[0m\u001b[1;33m\u001b[0m\u001b[1;33m\u001b[0m\u001b[0m\n\u001b[0m",
      "\u001b[1;31mTypeError\u001b[0m: <lambda>() missing 1 required positional argument: 'c'"
     ]
    }
   ],
   "source": [
    "reduce(lambda a,b,c:a*b*c,l)"
   ]
  },
  {
   "cell_type": "code",
   "execution_count": 76,
   "id": "321de0fb",
   "metadata": {},
   "outputs": [],
   "source": [
    "l=[1,2,3,4,5]"
   ]
  },
  {
   "cell_type": "code",
   "execution_count": 78,
   "id": "f6355a9d",
   "metadata": {},
   "outputs": [
    {
     "data": {
      "text/plain": [
       "[2, 4]"
      ]
     },
     "execution_count": 78,
     "metadata": {},
     "output_type": "execute_result"
    }
   ],
   "source": [
    "list(filter(lambda x:x%2==0,l))"
   ]
  },
  {
   "cell_type": "code",
   "execution_count": 79,
   "id": "f22c5247",
   "metadata": {},
   "outputs": [
    {
     "ename": "SyntaxError",
     "evalue": "invalid syntax (<ipython-input-79-11a6122f1bce>, line 1)",
     "output_type": "error",
     "traceback": [
      "\u001b[1;36m  File \u001b[1;32m\"<ipython-input-79-11a6122f1bce>\"\u001b[1;36m, line \u001b[1;32m1\u001b[0m\n\u001b[1;33m    [lamdba x:x**2 for i in range(4)]\u001b[0m\n\u001b[1;37m            ^\u001b[0m\n\u001b[1;31mSyntaxError\u001b[0m\u001b[1;31m:\u001b[0m invalid syntax\n"
     ]
    }
   ],
   "source": [
    "lamdba x:x**2 "
   ]
  },
  {
   "cell_type": "code",
   "execution_count": 81,
   "id": "8e368b4a",
   "metadata": {},
   "outputs": [],
   "source": [
    "k= lambda :[i*i for i in range(5)]"
   ]
  },
  {
   "cell_type": "code",
   "execution_count": 82,
   "id": "36b0fd5e",
   "metadata": {},
   "outputs": [
    {
     "data": {
      "text/plain": [
       "[0, 1, 4, 9, 16]"
      ]
     },
     "execution_count": 82,
     "metadata": {},
     "output_type": "execute_result"
    }
   ],
   "source": [
    "k()"
   ]
  },
  {
   "cell_type": "code",
   "execution_count": null,
   "id": "7e051014",
   "metadata": {},
   "outputs": [],
   "source": []
  }
 ],
 "metadata": {
  "kernelspec": {
   "display_name": "Python 3",
   "language": "python",
   "name": "python3"
  },
  "language_info": {
   "codemirror_mode": {
    "name": "ipython",
    "version": 3
   },
   "file_extension": ".py",
   "mimetype": "text/x-python",
   "name": "python",
   "nbconvert_exporter": "python",
   "pygments_lexer": "ipython3",
   "version": "3.8.8"
  }
 },
 "nbformat": 4,
 "nbformat_minor": 5
}
