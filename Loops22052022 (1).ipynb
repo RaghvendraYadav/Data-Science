{
 "cells": [
  {
   "cell_type": "code",
   "execution_count": 1,
   "id": "6ba8cc1c",
   "metadata": {},
   "outputs": [],
   "source": [
    "a=10\n",
    "if a ==11:\n",
    "    print('This is my first Condition')"
   ]
  },
  {
   "cell_type": "code",
   "execution_count": 2,
   "id": "f160853b",
   "metadata": {},
   "outputs": [],
   "source": [
    "a=10\n",
    "if a>5:\n",
    "    pass"
   ]
  },
  {
   "cell_type": "code",
   "execution_count": 3,
   "id": "ef1ec51d",
   "metadata": {},
   "outputs": [],
   "source": [
    "a=10\n",
    "if a<8:\n",
    "    print('Print this if staemnt is True')"
   ]
  },
  {
   "cell_type": "code",
   "execution_count": 4,
   "id": "cf91cb29",
   "metadata": {},
   "outputs": [
    {
     "name": "stdout",
     "output_type": "stream",
     "text": [
      "My conditon is True\n"
     ]
    }
   ],
   "source": [
    "a=10\n",
    "if a!=11:\n",
    "    print('My conditon is True')\n",
    "else:\n",
    "    print('Print this')"
   ]
  },
  {
   "cell_type": "code",
   "execution_count": 6,
   "id": "500b8741",
   "metadata": {},
   "outputs": [
    {
     "name": "stdout",
     "output_type": "stream",
     "text": [
      "Print this else Block \n"
     ]
    }
   ],
   "source": [
    "a=10\n",
    "if a==11:\n",
    "    print('My conditon is True')\n",
    "else:\n",
    "    print('Print this else Block ')"
   ]
  },
  {
   "cell_type": "code",
   "execution_count": 7,
   "id": "efbe6c27",
   "metadata": {},
   "outputs": [
    {
     "name": "stdout",
     "output_type": "stream",
     "text": [
      "If all comparison fail then do this\n"
     ]
    }
   ],
   "source": [
    "a=10\n",
    "if a==12:\n",
    "    print('The number is compare with 12')\n",
    "elif a==11:\n",
    "    print('Compare with 11')\n",
    "else:\n",
    "    print('If all comparison fail then do this')"
   ]
  },
  {
   "cell_type": "code",
   "execution_count": 9,
   "id": "8e1afa7d",
   "metadata": {},
   "outputs": [
    {
     "name": "stdout",
     "output_type": "stream",
     "text": [
      "Price is 500\n"
     ]
    }
   ],
   "source": [
    "price = 500\n",
    "if price> 500:\n",
    "    print('May b i wonot able to buy a jacket')\n",
    "elif price<500:\n",
    "    print('I can buy a jacket')\n",
    "else:\n",
    "    print('Price is 500')\n",
    "    "
   ]
  },
  {
   "cell_type": "code",
   "execution_count": 10,
   "id": "0630ad98",
   "metadata": {},
   "outputs": [
    {
     "data": {
      "text/plain": [
       "False"
      ]
     },
     "execution_count": 10,
     "metadata": {},
     "output_type": "execute_result"
    }
   ],
   "source": [
    "price>500"
   ]
  },
  {
   "cell_type": "code",
   "execution_count": 11,
   "id": "aefabe37",
   "metadata": {},
   "outputs": [
    {
     "data": {
      "text/plain": [
       "False"
      ]
     },
     "execution_count": 11,
     "metadata": {},
     "output_type": "execute_result"
    }
   ],
   "source": [
    "price<500"
   ]
  },
  {
   "cell_type": "code",
   "execution_count": 12,
   "id": "33225e26",
   "metadata": {},
   "outputs": [
    {
     "data": {
      "text/plain": [
       "True"
      ]
     },
     "execution_count": 12,
     "metadata": {},
     "output_type": "execute_result"
    }
   ],
   "source": [
    "price==500"
   ]
  },
  {
   "cell_type": "code",
   "execution_count": 13,
   "id": "1f424092",
   "metadata": {},
   "outputs": [
    {
     "data": {
      "text/plain": [
       "True"
      ]
     },
     "execution_count": 13,
     "metadata": {},
     "output_type": "execute_result"
    }
   ],
   "source": [
    "l=[1,2,3,4,5]\n",
    "2 in l"
   ]
  },
  {
   "cell_type": "code",
   "execution_count": 14,
   "id": "3ddc3e9a",
   "metadata": {},
   "outputs": [
    {
     "name": "stdout",
     "output_type": "stream",
     "text": [
      "Try to perform a task \n"
     ]
    }
   ],
   "source": [
    "if 2 in l:\n",
    "    print('Try to perform a task ')\n",
    "else:\n",
    "    print('Do not perform this task')"
   ]
  },
  {
   "cell_type": "code",
   "execution_count": 15,
   "id": "7ecdf633",
   "metadata": {},
   "outputs": [
    {
     "name": "stdout",
     "output_type": "stream",
     "text": [
      "Do not perform this task\n"
     ]
    }
   ],
   "source": [
    "if 23 in l:\n",
    "    print('Try to perform a task ')\n",
    "else:\n",
    "    print('Do not perform this task')"
   ]
  },
  {
   "cell_type": "code",
   "execution_count": 16,
   "id": "fd9ddc10",
   "metadata": {},
   "outputs": [
    {
     "name": "stdout",
     "output_type": "stream",
     "text": [
      "Try to do addition\n"
     ]
    }
   ],
   "source": [
    "if 1 in l:\n",
    "    print('Try to do addition')\n",
    "elif 2 in l:\n",
    "    print('Try to do Sub')\n",
    "elif 3 in l:\n",
    "    print('Multiply')"
   ]
  },
  {
   "cell_type": "code",
   "execution_count": 18,
   "id": "cfb3a525",
   "metadata": {},
   "outputs": [
    {
     "name": "stdout",
     "output_type": "stream",
     "text": [
      "Try to do Sub\n",
      "This is new statement\n"
     ]
    }
   ],
   "source": [
    "if 10 in l:\n",
    "    print('Try to do addition')\n",
    "elif 2 in l:\n",
    "    print('Try to do Sub')\n",
    "elif 3 in l:\n",
    "    print('Multiply')\n",
    "if 4 in l:\n",
    "    print('This is new statement')"
   ]
  },
  {
   "cell_type": "code",
   "execution_count": 19,
   "id": "86110b87",
   "metadata": {},
   "outputs": [],
   "source": [
    "a=400"
   ]
  },
  {
   "cell_type": "code",
   "execution_count": 20,
   "id": "b7035939",
   "metadata": {},
   "outputs": [
    {
     "name": "stdout",
     "output_type": "stream",
     "text": [
      "10fgkbm\n"
     ]
    }
   ],
   "source": [
    "b=input()"
   ]
  },
  {
   "cell_type": "code",
   "execution_count": 21,
   "id": "02e8014a",
   "metadata": {},
   "outputs": [
    {
     "data": {
      "text/plain": [
       "'10fgkbm'"
      ]
     },
     "execution_count": 21,
     "metadata": {},
     "output_type": "execute_result"
    }
   ],
   "source": [
    "b"
   ]
  },
  {
   "cell_type": "code",
   "execution_count": 22,
   "id": "5b5aa932",
   "metadata": {},
   "outputs": [
    {
     "name": "stdout",
     "output_type": "stream",
     "text": [
      "30\n"
     ]
    }
   ],
   "source": [
    "b=input()#default string"
   ]
  },
  {
   "cell_type": "code",
   "execution_count": 23,
   "id": "efddf61f",
   "metadata": {},
   "outputs": [
    {
     "data": {
      "text/plain": [
       "'30'"
      ]
     },
     "execution_count": 23,
     "metadata": {},
     "output_type": "execute_result"
    }
   ],
   "source": [
    "b"
   ]
  },
  {
   "cell_type": "code",
   "execution_count": 24,
   "id": "53d91208",
   "metadata": {},
   "outputs": [
    {
     "data": {
      "text/plain": [
       "str"
      ]
     },
     "execution_count": 24,
     "metadata": {},
     "output_type": "execute_result"
    }
   ],
   "source": [
    "type(b)"
   ]
  },
  {
   "cell_type": "code",
   "execution_count": 25,
   "id": "3971f676",
   "metadata": {},
   "outputs": [
    {
     "name": "stdout",
     "output_type": "stream",
     "text": [
      "345\n"
     ]
    }
   ],
   "source": [
    "c"
   ]
  },
  {
   "cell_type": "code",
   "execution_count": 26,
   "id": "5a43e645",
   "metadata": {},
   "outputs": [
    {
     "data": {
      "text/plain": [
       "345"
      ]
     },
     "execution_count": 26,
     "metadata": {},
     "output_type": "execute_result"
    }
   ],
   "source": [
    "b"
   ]
  },
  {
   "cell_type": "code",
   "execution_count": 27,
   "id": "e8a8e7b4",
   "metadata": {},
   "outputs": [
    {
     "data": {
      "text/plain": [
       "int"
      ]
     },
     "execution_count": 27,
     "metadata": {},
     "output_type": "execute_result"
    }
   ],
   "source": [
    "type(b)"
   ]
  },
  {
   "cell_type": "code",
   "execution_count": 28,
   "id": "6f40f2c6",
   "metadata": {},
   "outputs": [
    {
     "name": "stdout",
     "output_type": "stream",
     "text": [
      "345\n"
     ]
    }
   ],
   "source": [
    "b=int(input())"
   ]
  },
  {
   "cell_type": "code",
   "execution_count": 29,
   "id": "94b36611",
   "metadata": {},
   "outputs": [
    {
     "data": {
      "text/plain": [
       "int"
      ]
     },
     "execution_count": 29,
     "metadata": {},
     "output_type": "execute_result"
    }
   ],
   "source": [
    "type(b)"
   ]
  },
  {
   "cell_type": "code",
   "execution_count": 30,
   "id": "0e2a10c7",
   "metadata": {},
   "outputs": [
    {
     "name": "stdout",
     "output_type": "stream",
     "text": [
      "443f\n"
     ]
    },
    {
     "ename": "ValueError",
     "evalue": "invalid literal for int() with base 10: '443f'",
     "output_type": "error",
     "traceback": [
      "\u001b[1;31m---------------------------------------------------------------------------\u001b[0m",
      "\u001b[1;31mValueError\u001b[0m                                Traceback (most recent call last)",
      "\u001b[1;32m<ipython-input-30-a62d89b92eec>\u001b[0m in \u001b[0;36m<module>\u001b[1;34m\u001b[0m\n\u001b[1;32m----> 1\u001b[1;33m \u001b[0mb\u001b[0m\u001b[1;33m=\u001b[0m\u001b[0mint\u001b[0m\u001b[1;33m(\u001b[0m\u001b[0minput\u001b[0m\u001b[1;33m(\u001b[0m\u001b[1;33m)\u001b[0m\u001b[1;33m)\u001b[0m\u001b[1;33m\u001b[0m\u001b[1;33m\u001b[0m\u001b[0m\n\u001b[0m",
      "\u001b[1;31mValueError\u001b[0m: invalid literal for int() with base 10: '443f'"
     ]
    }
   ],
   "source": [
    "b=int(input())"
   ]
  },
  {
   "cell_type": "code",
   "execution_count": 31,
   "id": "75583326",
   "metadata": {},
   "outputs": [
    {
     "name": "stdout",
     "output_type": "stream",
     "text": [
      "gllblhl\n"
     ]
    },
    {
     "ename": "ValueError",
     "evalue": "invalid literal for int() with base 10: 'gllblhl'",
     "output_type": "error",
     "traceback": [
      "\u001b[1;31m---------------------------------------------------------------------------\u001b[0m",
      "\u001b[1;31mValueError\u001b[0m                                Traceback (most recent call last)",
      "\u001b[1;32m<ipython-input-31-c30c8ee3afd0>\u001b[0m in \u001b[0;36m<module>\u001b[1;34m\u001b[0m\n\u001b[1;32m----> 1\u001b[1;33m \u001b[0mprice\u001b[0m\u001b[1;33m=\u001b[0m\u001b[0mint\u001b[0m\u001b[1;33m(\u001b[0m\u001b[0minput\u001b[0m\u001b[1;33m(\u001b[0m\u001b[1;33m)\u001b[0m\u001b[1;33m)\u001b[0m\u001b[1;33m\u001b[0m\u001b[1;33m\u001b[0m\u001b[0m\n\u001b[0m\u001b[0;32m      2\u001b[0m \u001b[1;32mif\u001b[0m \u001b[0mprice\u001b[0m\u001b[1;33m<\u001b[0m\u001b[1;36m500\u001b[0m\u001b[1;33m:\u001b[0m\u001b[1;33m\u001b[0m\u001b[1;33m\u001b[0m\u001b[0m\n\u001b[0;32m      3\u001b[0m     \u001b[0mprint\u001b[0m\u001b[1;33m(\u001b[0m\u001b[1;34m'I will be able to buy something'\u001b[0m\u001b[1;33m)\u001b[0m\u001b[1;33m\u001b[0m\u001b[1;33m\u001b[0m\u001b[0m\n\u001b[0;32m      4\u001b[0m     \u001b[1;32mif\u001b[0m \u001b[0mprice\u001b[0m\u001b[1;33m<\u001b[0m\u001b[1;36m400\u001b[0m\u001b[1;33m:\u001b[0m\u001b[1;33m\u001b[0m\u001b[1;33m\u001b[0m\u001b[0m\n\u001b[0;32m      5\u001b[0m         \u001b[0mprint\u001b[0m\u001b[1;33m(\u001b[0m\u001b[1;34m'I will be able to buy a jacket'\u001b[0m\u001b[1;33m)\u001b[0m\u001b[1;33m\u001b[0m\u001b[1;33m\u001b[0m\u001b[0m\n",
      "\u001b[1;31mValueError\u001b[0m: invalid literal for int() with base 10: 'gllblhl'"
     ]
    }
   ],
   "source": [
    "price=int(input())\n",
    "if price<500:\n",
    "    print('I will be able to buy something')\n",
    "    if price<400:\n",
    "        print('I will be able to buy a jacket')\n",
    "    elif price<300:\n",
    "        print('I can buy a shirt')\n",
    "    else:\n",
    "        print('Everything is out of Budget')\n",
    "else:\n",
    "    print('I wonot be able to buy anythiing with this high price Tag')"
   ]
  },
  {
   "cell_type": "code",
   "execution_count": 32,
   "id": "03585fd7",
   "metadata": {},
   "outputs": [
    {
     "name": "stdout",
     "output_type": "stream",
     "text": [
      "600\n",
      "I wonot be able to buy anythiing with this high price Tag\n"
     ]
    }
   ],
   "source": [
    "price=int(input())\n",
    "if price<500:\n",
    "    print('I will be able to buy something')\n",
    "    if price<400:\n",
    "        print('I will be able to buy a jacket')\n",
    "    elif price<300:\n",
    "        print('I can buy a shirt')\n",
    "    else:\n",
    "        print('Everything is out of Budget')\n",
    "else:\n",
    "    print('I wonot be able to buy anythiing with this high price Tag')"
   ]
  },
  {
   "cell_type": "code",
   "execution_count": 33,
   "id": "ca7d2903",
   "metadata": {},
   "outputs": [
    {
     "name": "stdout",
     "output_type": "stream",
     "text": [
      "450\n",
      "I will be able to buy something\n",
      "Everything is out of Budget\n"
     ]
    }
   ],
   "source": [
    "price=int(input())\n",
    "if price<500:\n",
    "    print('I will be able to buy something')\n",
    "    if price<400:\n",
    "        print('I will be able to buy a jacket')\n",
    "    elif price<300:\n",
    "        print('I can buy a shirt')\n",
    "    else:\n",
    "        print('Everything is out of Budget')\n",
    "else:\n",
    "    print('I wonot be able to buy anythiing with this high price Tag')"
   ]
  },
  {
   "cell_type": "code",
   "execution_count": 34,
   "id": "839b7242",
   "metadata": {},
   "outputs": [
    {
     "name": "stdout",
     "output_type": "stream",
     "text": [
      "300\n",
      "I will be able to buy something\n",
      "I will be able to buy a jacket\n"
     ]
    }
   ],
   "source": [
    "price=int(input())\n",
    "if price<500:\n",
    "    print('I will be able to buy something')\n",
    "    if price<400:\n",
    "        print('I will be able to buy a jacket')\n",
    "    elif price<300:\n",
    "        print('I can buy a shirt')\n",
    "    else:\n",
    "        print('Everything is out of Budget')\n",
    "else:\n",
    "    print('I wonot be able to buy anythiing with this high price Tag')"
   ]
  },
  {
   "cell_type": "code",
   "execution_count": 35,
   "id": "cb64f3ad",
   "metadata": {},
   "outputs": [
    {
     "name": "stdout",
     "output_type": "stream",
     "text": [
      "34\n",
      "I will be able to buy something\n",
      "I will be able to buy a jacket\n"
     ]
    }
   ],
   "source": [
    "price=int(input())\n",
    "if price<500:\n",
    "    print('I will be able to buy something')\n",
    "    if price<400:\n",
    "        print('I will be able to buy a jacket')\n",
    "    elif price<300:\n",
    "        print('I can buy a shirt')\n",
    "    else:\n",
    "        print('Everything is out of Budget')\n",
    "else:\n",
    "    print('I wonot be able to buy anythiing with this high price Tag')"
   ]
  },
  {
   "cell_type": "code",
   "execution_count": 1,
   "id": "f518c349",
   "metadata": {},
   "outputs": [
    {
     "name": "stdout",
     "output_type": "stream",
     "text": [
      "450\n",
      "NO GRE\n",
      "Toffel\n"
     ]
    }
   ],
   "source": [
    "marks=int(input())\n",
    "if marks>600:\n",
    "    print('GRE')\n",
    "elif marks<600:\n",
    "    print('NO GRE')\n",
    "    if marks<400:\n",
    "        print('Soemthing Else')\n",
    "    elif marks<500:\n",
    "        print('Toffel')"
   ]
  },
  {
   "cell_type": "code",
   "execution_count": 3,
   "id": "e35a55b3",
   "metadata": {},
   "outputs": [
    {
     "name": "stdout",
     "output_type": "stream",
     "text": [
      "Enter a Floating number0\n",
      "Value is Zero\n"
     ]
    }
   ],
   "source": [
    "val=float(input('Enter a Floating number'))\n",
    "if val>=0:\n",
    "    if val==0:\n",
    "        print('Value is Zero')\n",
    "    else:\n",
    "        print('Value  enter is positive')\n",
    "else:\n",
    "    print('Negative number')"
   ]
  },
  {
   "cell_type": "code",
   "execution_count": 4,
   "id": "e1b3ca0a",
   "metadata": {},
   "outputs": [
    {
     "name": "stdout",
     "output_type": "stream",
     "text": [
      "Enter a Floating number-2\n",
      "Negative number\n"
     ]
    }
   ],
   "source": [
    "val=float(input('Enter a Floating number'))\n",
    "if val>=0:\n",
    "    if val==0:\n",
    "        print('Value is Zero')\n",
    "    else:\n",
    "        print('Value  enter is positive')\n",
    "else:\n",
    "    print('Negative number')"
   ]
  },
  {
   "cell_type": "code",
   "execution_count": 7,
   "id": "e7ccd5cd",
   "metadata": {},
   "outputs": [],
   "source": [
    "a=10\n",
    "if a<10 or a>10:\n",
    "    print('Try to do Something')"
   ]
  },
  {
   "cell_type": "code",
   "execution_count": 8,
   "id": "dadbb7b4",
   "metadata": {},
   "outputs": [
    {
     "name": "stdout",
     "output_type": "stream",
     "text": [
      "Try to do Something\n"
     ]
    }
   ],
   "source": [
    "a=10\n",
    "if a<10 or a==10:\n",
    "    print('Try to do Something')"
   ]
  },
  {
   "cell_type": "code",
   "execution_count": 9,
   "id": "07a2246a",
   "metadata": {},
   "outputs": [],
   "source": [
    "a=10\n",
    "if a<10 and a==10:\n",
    "    print('Try to do Something')"
   ]
  },
  {
   "cell_type": "code",
   "execution_count": 10,
   "id": "d0aa09fb",
   "metadata": {},
   "outputs": [],
   "source": [
    "a='SUDH'\n",
    "if a =='SUDH'and a=='sudh':\n",
    "    print('Both sathement true')"
   ]
  },
  {
   "cell_type": "code",
   "execution_count": 12,
   "id": "e012ac4c",
   "metadata": {},
   "outputs": [
    {
     "name": "stdout",
     "output_type": "stream",
     "text": [
      "Both sathement true\n"
     ]
    }
   ],
   "source": [
    "a='SUDH'\n",
    "if a =='SUDH' or a=='sudh':\n",
    "    print('Both sathement true')"
   ]
  },
  {
   "cell_type": "code",
   "execution_count": 13,
   "id": "cc689b82",
   "metadata": {},
   "outputs": [],
   "source": [
    "a=10\n",
    "b=11\n",
    "c=12\n",
    "d=13\n",
    "if a==9 and b==11 and c==12 and d==13:\n",
    "    print('Lets Do something')"
   ]
  },
  {
   "cell_type": "code",
   "execution_count": 14,
   "id": "f6ed0439",
   "metadata": {},
   "outputs": [
    {
     "name": "stdout",
     "output_type": "stream",
     "text": [
      "Lets Do something\n"
     ]
    }
   ],
   "source": [
    "a=10\n",
    "b=11\n",
    "c=12\n",
    "d=13\n",
    "if a==9 or b==11 and c==12 and d==13:\n",
    "    print('Lets Do something')"
   ]
  },
  {
   "cell_type": "code",
   "execution_count": 15,
   "id": "e6af4aa5",
   "metadata": {},
   "outputs": [],
   "source": [
    "d={'Key1':\"Value\",'key2':'Sudh','key3':'Ineuron'}"
   ]
  },
  {
   "cell_type": "code",
   "execution_count": 17,
   "id": "d5307ce5",
   "metadata": {},
   "outputs": [
    {
     "name": "stdout",
     "output_type": "stream",
     "text": [
      "All the values are verified\n",
      "dict_values(['Value', 'Sudh', 'Ineuron'])\n"
     ]
    }
   ],
   "source": [
    "if d['Key1']=='Value' and d['key2']=='Sudh' and d['key3']=='Ineuron':\n",
    "    print('All the values are verified')\n",
    "    print(d.values())\n",
    "else:\n",
    "    print('All the values are not match')"
   ]
  },
  {
   "cell_type": "code",
   "execution_count": 18,
   "id": "5c7516d5",
   "metadata": {},
   "outputs": [
    {
     "name": "stdout",
     "output_type": "stream",
     "text": [
      "All the values are not match\n"
     ]
    }
   ],
   "source": [
    "if d['Key1']=='Value' and d['key2']=='sudh' and d['key3']=='Ineuron':\n",
    "    print('All the values are verified')\n",
    "    print(d.values())\n",
    "else:\n",
    "    print('All the values are not match')"
   ]
  },
  {
   "cell_type": "code",
   "execution_count": 19,
   "id": "3a78c52f",
   "metadata": {},
   "outputs": [],
   "source": [
    "#Loops"
   ]
  },
  {
   "cell_type": "code",
   "execution_count": 20,
   "id": "83f2ad9e",
   "metadata": {},
   "outputs": [],
   "source": [
    "l=[1,2,3,4,5,'Sudh',22.43]"
   ]
  },
  {
   "cell_type": "code",
   "execution_count": 21,
   "id": "0c15bf9e",
   "metadata": {},
   "outputs": [
    {
     "data": {
      "text/plain": [
       "1"
      ]
     },
     "execution_count": 21,
     "metadata": {},
     "output_type": "execute_result"
    }
   ],
   "source": [
    "l[0]"
   ]
  },
  {
   "cell_type": "code",
   "execution_count": 22,
   "id": "264f962b",
   "metadata": {},
   "outputs": [
    {
     "data": {
      "text/plain": [
       "[3, 4, 5]"
      ]
     },
     "execution_count": 22,
     "metadata": {},
     "output_type": "execute_result"
    }
   ],
   "source": [
    "l[2:5]"
   ]
  },
  {
   "cell_type": "code",
   "execution_count": 23,
   "id": "2f19d31a",
   "metadata": {},
   "outputs": [
    {
     "name": "stdout",
     "output_type": "stream",
     "text": [
      "1\n",
      "2\n",
      "3\n",
      "4\n",
      "5\n",
      "Sudh\n",
      "22.43\n"
     ]
    }
   ],
   "source": [
    "for i in l:\n",
    "    print(i)"
   ]
  },
  {
   "cell_type": "code",
   "execution_count": 24,
   "id": "cfaad223",
   "metadata": {},
   "outputs": [
    {
     "name": "stdout",
     "output_type": "stream",
     "text": [
      "2\n",
      "3\n",
      "4\n",
      "5\n",
      "6\n"
     ]
    },
    {
     "ename": "TypeError",
     "evalue": "can only concatenate str (not \"int\") to str",
     "output_type": "error",
     "traceback": [
      "\u001b[1;31m---------------------------------------------------------------------------\u001b[0m",
      "\u001b[1;31mTypeError\u001b[0m                                 Traceback (most recent call last)",
      "\u001b[1;32m<ipython-input-24-8840afee3391>\u001b[0m in \u001b[0;36m<module>\u001b[1;34m\u001b[0m\n\u001b[0;32m      1\u001b[0m \u001b[1;32mfor\u001b[0m \u001b[0mi\u001b[0m \u001b[1;32min\u001b[0m \u001b[0ml\u001b[0m\u001b[1;33m:\u001b[0m\u001b[1;33m\u001b[0m\u001b[1;33m\u001b[0m\u001b[0m\n\u001b[1;32m----> 2\u001b[1;33m     \u001b[0mprint\u001b[0m\u001b[1;33m(\u001b[0m\u001b[0mi\u001b[0m\u001b[1;33m+\u001b[0m\u001b[1;36m1\u001b[0m\u001b[1;33m)\u001b[0m\u001b[1;33m\u001b[0m\u001b[1;33m\u001b[0m\u001b[0m\n\u001b[0m",
      "\u001b[1;31mTypeError\u001b[0m: can only concatenate str (not \"int\") to str"
     ]
    }
   ],
   "source": [
    "for i in l:\n",
    "    print(i+1)"
   ]
  },
  {
   "cell_type": "code",
   "execution_count": 25,
   "id": "b7e8fd3d",
   "metadata": {},
   "outputs": [
    {
     "name": "stdout",
     "output_type": "stream",
     "text": [
      "2\n",
      "3\n",
      "4\n",
      "5\n",
      "6\n",
      "Sudh1\n",
      "23.43\n"
     ]
    }
   ],
   "source": [
    "for i in l:\n",
    "    if type(i)==int or type(i)==float:\n",
    "        print(i+1)\n",
    "    elif type(i)==str:\n",
    "        print(i+str(1))\n",
    "   "
   ]
  },
  {
   "cell_type": "code",
   "execution_count": 26,
   "id": "78972417",
   "metadata": {},
   "outputs": [],
   "source": [
    "l1=[]\n",
    "for i in l:\n",
    "    if type(i)==int:\n",
    "        l1.append(i)\n",
    "    "
   ]
  },
  {
   "cell_type": "code",
   "execution_count": 27,
   "id": "65c5fd11",
   "metadata": {},
   "outputs": [
    {
     "data": {
      "text/plain": [
       "[1, 2, 3, 4, 5]"
      ]
     },
     "execution_count": 27,
     "metadata": {},
     "output_type": "execute_result"
    }
   ],
   "source": [
    "l1"
   ]
  },
  {
   "cell_type": "code",
   "execution_count": null,
   "id": "31d0d2dd",
   "metadata": {},
   "outputs": [],
   "source": []
  }
 ],
 "metadata": {
  "kernelspec": {
   "display_name": "Python 3",
   "language": "python",
   "name": "python3"
  }
 },
 "nbformat": 4,
 "nbformat_minor": 5
}
